{
 "cells": [
  {
   "cell_type": "code",
   "execution_count": 1,
   "id": "50ab5a57",
   "metadata": {},
   "outputs": [],
   "source": [
    "def is_even(number):\n",
    "    \"\"\"\n",
    "    This function tells if a given number is odd or even\n",
    "    Input - any valid integer\n",
    "    Output - odd/even\n",
    "    Created by - Nihar\n",
    "    Last edited - 16 Aug 2023\n",
    "    \"\"\"\n",
    "    if type(number) == int:\n",
    "        if number % 2 == 0:\n",
    "            return \"Even\"\n",
    "        else:\n",
    "            return \"Odd\"\n",
    "    else:\n",
    "        return \"Not allowed\""
   ]
  },
  {
   "cell_type": "code",
   "execution_count": 2,
   "id": "b7bc5c44",
   "metadata": {},
   "outputs": [
    {
     "data": {
      "text/plain": [
       "'Even'"
      ]
     },
     "execution_count": 2,
     "metadata": {},
     "output_type": "execute_result"
    }
   ],
   "source": [
    "is_even(90)"
   ]
  },
  {
   "cell_type": "code",
   "execution_count": 17,
   "id": "a4a820a5",
   "metadata": {},
   "outputs": [
    {
     "name": "stdout",
     "output_type": "stream",
     "text": [
      "Odd\n",
      "Even\n",
      "Odd\n",
      "Even\n",
      "Odd\n",
      "Even\n",
      "Odd\n",
      "Even\n",
      "Odd\n",
      "Even\n"
     ]
    }
   ],
   "source": [
    "for i in range(1,11):\n",
    "    print(is_even(i))"
   ]
  },
  {
   "cell_type": "code",
   "execution_count": 18,
   "id": "c310fd53",
   "metadata": {},
   "outputs": [
    {
     "data": {
      "text/plain": [
       "\"print(value, ..., sep=' ', end='\\\\n', file=sys.stdout, flush=False)\\n\\nPrints the values to a stream, or to sys.stdout by default.\\nOptional keyword arguments:\\nfile:  a file-like object (stream); defaults to the current sys.stdout.\\nsep:   string inserted between values, default a space.\\nend:   string appended after the last value, default a newline.\\nflush: whether to forcibly flush the stream.\""
      ]
     },
     "execution_count": 18,
     "metadata": {},
     "output_type": "execute_result"
    }
   ],
   "source": [
    "print.__doc__"
   ]
  },
  {
   "cell_type": "code",
   "execution_count": 20,
   "id": "9ab7dcaf",
   "metadata": {},
   "outputs": [
    {
     "data": {
      "text/plain": [
       "'\\n    This function tells if a given number is odd or even\\n    Input - any valid integer\\n    Output - odd/even\\n    Created by - Nihar\\n    Last edited - 18 july 2022\\n    '"
      ]
     },
     "execution_count": 20,
     "metadata": {},
     "output_type": "execute_result"
    }
   ],
   "source": [
    "# find the documentation of function\n",
    "is_even.__doc__"
   ]
  },
  {
   "cell_type": "code",
   "execution_count": 21,
   "id": "181807e6",
   "metadata": {},
   "outputs": [
    {
     "name": "stdout",
     "output_type": "stream",
     "text": [
      "\n",
      "    This function tells if a given number is odd or even\n",
      "    Input - any valid integer\n",
      "    Output - odd/even\n",
      "    Created by - Nihar\n",
      "    Last edited - 18 july 2022\n",
      "    \n"
     ]
    }
   ],
   "source": [
    "print(is_even.__doc__)"
   ]
  },
  {
   "cell_type": "code",
   "execution_count": 23,
   "id": "69e3947f",
   "metadata": {},
   "outputs": [
    {
     "data": {
      "text/plain": [
       "'Not allowed'"
      ]
     },
     "execution_count": 23,
     "metadata": {},
     "output_type": "execute_result"
    }
   ],
   "source": [
    "is_even('Hello')"
   ]
  },
  {
   "cell_type": "code",
   "execution_count": 24,
   "id": "111d7e30",
   "metadata": {},
   "outputs": [],
   "source": [
    "def power(a,b):\n",
    "    \"\"\"\n",
    "    This function gives us a to the power of b\n",
    "    Input - any valid integer\n",
    "    Output - a to the power of b\n",
    "    Created by - Nihar\n",
    "    Last edited - 16 Aug 2023\n",
    "    \"\"\"\n",
    "    return a**b"
   ]
  },
  {
   "cell_type": "code",
   "execution_count": 25,
   "id": "737f926a",
   "metadata": {},
   "outputs": [
    {
     "data": {
      "text/plain": [
       "8"
      ]
     },
     "execution_count": 25,
     "metadata": {},
     "output_type": "execute_result"
    }
   ],
   "source": [
    "power(2,3)"
   ]
  },
  {
   "cell_type": "code",
   "execution_count": 26,
   "id": "d00decf2",
   "metadata": {},
   "outputs": [
    {
     "ename": "TypeError",
     "evalue": "power() missing 1 required positional argument: 'b'",
     "output_type": "error",
     "traceback": [
      "\u001b[1;31m---------------------------------------------------------------------------\u001b[0m",
      "\u001b[1;31mTypeError\u001b[0m                                 Traceback (most recent call last)",
      "Input \u001b[1;32mIn [26]\u001b[0m, in \u001b[0;36m<cell line: 1>\u001b[1;34m()\u001b[0m\n\u001b[1;32m----> 1\u001b[0m \u001b[43mpower\u001b[49m\u001b[43m(\u001b[49m\u001b[38;5;241;43m2\u001b[39;49m\u001b[43m)\u001b[49m\n",
      "\u001b[1;31mTypeError\u001b[0m: power() missing 1 required positional argument: 'b'"
     ]
    }
   ],
   "source": [
    "power(2)"
   ]
  },
  {
   "cell_type": "code",
   "execution_count": 27,
   "id": "ef356891",
   "metadata": {},
   "outputs": [],
   "source": [
    "# Default arguments : Intialize with some variable as default\n",
    "def power(a=1,b=1):\n",
    "    \"\"\"\n",
    "    This function gives us a to the power of b\n",
    "    Input - any valid integer\n",
    "    Output - a to the power of b\n",
    "    Created by - Nihar\n",
    "    Last edited - 16 Aug 2023\n",
    "    \"\"\"\n",
    "    return a**b"
   ]
  },
  {
   "cell_type": "code",
   "execution_count": 29,
   "id": "41958534",
   "metadata": {},
   "outputs": [
    {
     "data": {
      "text/plain": [
       "2"
      ]
     },
     "execution_count": 29,
     "metadata": {},
     "output_type": "execute_result"
    }
   ],
   "source": [
    "power(2)"
   ]
  },
  {
   "cell_type": "code",
   "execution_count": 31,
   "id": "408f2165",
   "metadata": {},
   "outputs": [
    {
     "data": {
      "text/plain": [
       "2"
      ]
     },
     "execution_count": 31,
     "metadata": {},
     "output_type": "execute_result"
    }
   ],
   "source": [
    "power(2,)"
   ]
  },
  {
   "cell_type": "code",
   "execution_count": 33,
   "id": "463c3630",
   "metadata": {},
   "outputs": [
    {
     "data": {
      "text/plain": [
       "0"
      ]
     },
     "execution_count": 33,
     "metadata": {},
     "output_type": "execute_result"
    }
   ],
   "source": [
    "power(0,2)"
   ]
  },
  {
   "cell_type": "code",
   "execution_count": 34,
   "id": "1fa797af",
   "metadata": {},
   "outputs": [
    {
     "data": {
      "text/plain": [
       "8"
      ]
     },
     "execution_count": 34,
     "metadata": {},
     "output_type": "execute_result"
    }
   ],
   "source": [
    "#postional Arguments\n",
    "power(2,3)"
   ]
  },
  {
   "cell_type": "markdown",
   "id": "70755590",
   "metadata": {},
   "source": [
    "#### Postional Arguments: which oder we pass varibale its give same oder"
   ]
  },
  {
   "cell_type": "code",
   "execution_count": 36,
   "id": "a2eee030",
   "metadata": {},
   "outputs": [
    {
     "data": {
      "text/plain": [
       "9"
      ]
     },
     "execution_count": 36,
     "metadata": {},
     "output_type": "execute_result"
    }
   ],
   "source": [
    "# keyword arguments\n",
    "power(b=2,a=3)"
   ]
  },
  {
   "cell_type": "code",
   "execution_count": 37,
   "id": "b2d511e1",
   "metadata": {},
   "outputs": [
    {
     "name": "stdout",
     "output_type": "stream",
     "text": [
      "1 2 3\n"
     ]
    }
   ],
   "source": [
    "print(1,2,3)"
   ]
  },
  {
   "cell_type": "code",
   "execution_count": 43,
   "id": "ce68ee7f",
   "metadata": {},
   "outputs": [],
   "source": [
    "def flexi(*number):\n",
    "    \"\"\"\n",
    "    This function gives us product of given number\n",
    "    Input - any valid integers\n",
    "    Output - product of given numbers\n",
    "    Created by - Nihar\n",
    "    Last edited - 16 Aug 2023\n",
    "    \"\"\"\n",
    "    product = 1\n",
    "    print(number)\n",
    "    for i in number:\n",
    "        product *= i \n",
    "    return product"
   ]
  },
  {
   "cell_type": "code",
   "execution_count": 44,
   "id": "d86f0625",
   "metadata": {},
   "outputs": [
    {
     "name": "stdout",
     "output_type": "stream",
     "text": [
      "(1, 2, 3, 4, 5, 6, 7)\n"
     ]
    },
    {
     "data": {
      "text/plain": [
       "5040"
      ]
     },
     "execution_count": 44,
     "metadata": {},
     "output_type": "execute_result"
    }
   ],
   "source": [
    "flexi(1,2,3,4,5,6,7)"
   ]
  },
  {
   "cell_type": "code",
   "execution_count": 45,
   "id": "67f9e94f",
   "metadata": {},
   "outputs": [
    {
     "name": "stdout",
     "output_type": "stream",
     "text": [
      "\n",
      "    This function gives us product of given number\n",
      "    Input - any valid integers\n",
      "    Output - product of given numbers\n",
      "    Created by - Nihar\n",
      "    Last edited - 18 july 2022\n",
      "    \n"
     ]
    }
   ],
   "source": [
    "print(flexi.__doc__)"
   ]
  },
  {
   "cell_type": "code",
   "execution_count": 46,
   "id": "37a5d968",
   "metadata": {},
   "outputs": [
    {
     "name": "stdout",
     "output_type": "stream",
     "text": [
      "inside func_a\n",
      "None\n",
      "inside func_b\n",
      "7\n"
     ]
    }
   ],
   "source": [
    "def func_a():\n",
    "    print('inside func_a')\n",
    "def func_b(y):\n",
    "    print('inside func_b')\n",
    "    return y\n",
    "\n",
    "print(func_a())\n",
    "print(5+func_b(2))"
   ]
  },
  {
   "cell_type": "code",
   "execution_count": 48,
   "id": "c482d8b2",
   "metadata": {},
   "outputs": [
    {
     "name": "stdout",
     "output_type": "stream",
     "text": [
      "10\n",
      "11\n",
      "10\n"
     ]
    }
   ],
   "source": [
    "def g(y):\n",
    "    print(x)\n",
    "    print(x+1)\n",
    "x = 10\n",
    "g(x)\n",
    "print(x)"
   ]
  },
  {
   "cell_type": "code",
   "execution_count": 49,
   "id": "d01bdc5b",
   "metadata": {},
   "outputs": [
    {
     "ename": "UnboundLocalError",
     "evalue": "local variable 'x' referenced before assignment",
     "output_type": "error",
     "traceback": [
      "\u001b[1;31m---------------------------------------------------------------------------\u001b[0m",
      "\u001b[1;31mUnboundLocalError\u001b[0m                         Traceback (most recent call last)",
      "Input \u001b[1;32mIn [49]\u001b[0m, in \u001b[0;36m<cell line: 4>\u001b[1;34m()\u001b[0m\n\u001b[0;32m      2\u001b[0m     x \u001b[38;5;241m+\u001b[39m\u001b[38;5;241m=\u001b[39m \u001b[38;5;241m1\u001b[39m\n\u001b[0;32m      3\u001b[0m x \u001b[38;5;241m=\u001b[39m \u001b[38;5;241m5\u001b[39m\n\u001b[1;32m----> 4\u001b[0m \u001b[43mh\u001b[49m\u001b[43m(\u001b[49m\u001b[43mx\u001b[49m\u001b[43m)\u001b[49m\n\u001b[0;32m      5\u001b[0m \u001b[38;5;28mprint\u001b[39m(x)\n",
      "Input \u001b[1;32mIn [49]\u001b[0m, in \u001b[0;36mh\u001b[1;34m(y)\u001b[0m\n\u001b[0;32m      1\u001b[0m \u001b[38;5;28;01mdef\u001b[39;00m \u001b[38;5;21mh\u001b[39m(y):\n\u001b[1;32m----> 2\u001b[0m     x \u001b[38;5;241m+\u001b[39m\u001b[38;5;241m=\u001b[39m \u001b[38;5;241m1\u001b[39m\n",
      "\u001b[1;31mUnboundLocalError\u001b[0m: local variable 'x' referenced before assignment"
     ]
    }
   ],
   "source": [
    "def h(y):\n",
    "    x += 1\n",
    "    \n",
    "x = 5\n",
    "h(x)\n",
    "print(x)"
   ]
  },
  {
   "cell_type": "code",
   "execution_count": 50,
   "id": "c9ec4ebe",
   "metadata": {},
   "outputs": [
    {
     "name": "stdout",
     "output_type": "stream",
     "text": [
      "6\n"
     ]
    }
   ],
   "source": [
    "def h(y):\n",
    "    global x\n",
    "    x += 1\n",
    "    \n",
    "x = 5\n",
    "h(x)\n",
    "print(x)"
   ]
  },
  {
   "cell_type": "code",
   "execution_count": 51,
   "id": "9e788d84",
   "metadata": {},
   "outputs": [
    {
     "name": "stdout",
     "output_type": "stream",
     "text": [
      "in f(x): x= 4\n",
      "in main program scope: z = 4\n",
      "in main program scope: x = 3\n"
     ]
    }
   ],
   "source": [
    "def f(x):\n",
    "    x = x+1\n",
    "    print('in f(x): x=',x)\n",
    "    return x\n",
    "x = 3\n",
    "z = f(x)\n",
    "print('in main program scope: z =',z)\n",
    "print('in main program scope: x =',x)"
   ]
  },
  {
   "cell_type": "code",
   "execution_count": 55,
   "id": "1432976c",
   "metadata": {},
   "outputs": [
    {
     "ename": "NameError",
     "evalue": "name 'gx' is not defined",
     "output_type": "error",
     "traceback": [
      "\u001b[1;31m---------------------------------------------------------------------------\u001b[0m",
      "\u001b[1;31mNameError\u001b[0m                                 Traceback (most recent call last)",
      "Input \u001b[1;32mIn [55]\u001b[0m, in \u001b[0;36m<cell line: 6>\u001b[1;34m()\u001b[0m\n\u001b[0;32m      4\u001b[0m         \u001b[38;5;28mprint\u001b[39m(\u001b[38;5;124m'\u001b[39m\u001b[38;5;124minside gx\u001b[39m\u001b[38;5;124m'\u001b[39m)\n\u001b[0;32m      5\u001b[0m     gx()\n\u001b[1;32m----> 6\u001b[0m \u001b[43mgx\u001b[49m()\n",
      "\u001b[1;31mNameError\u001b[0m: name 'gx' is not defined"
     ]
    }
   ],
   "source": [
    "def f():\n",
    "    print('inside f')\n",
    "    def gx():\n",
    "        print('inside gx')\n",
    "    gx()\n",
    "gx()"
   ]
  },
  {
   "cell_type": "code",
   "execution_count": 56,
   "id": "20ea902e",
   "metadata": {},
   "outputs": [
    {
     "name": "stdout",
     "output_type": "stream",
     "text": [
      "inside f\n",
      "inside gx\n"
     ]
    }
   ],
   "source": [
    "f()"
   ]
  },
  {
   "cell_type": "code",
   "execution_count": 57,
   "id": "c30cf7f6",
   "metadata": {},
   "outputs": [
    {
     "ename": "NameError",
     "evalue": "name 'gx' is not defined",
     "output_type": "error",
     "traceback": [
      "\u001b[1;31m---------------------------------------------------------------------------\u001b[0m",
      "\u001b[1;31mNameError\u001b[0m                                 Traceback (most recent call last)",
      "Input \u001b[1;32mIn [57]\u001b[0m, in \u001b[0;36m<cell line: 1>\u001b[1;34m()\u001b[0m\n\u001b[1;32m----> 1\u001b[0m \u001b[43mgx\u001b[49m()\n",
      "\u001b[1;31mNameError\u001b[0m: name 'gx' is not defined"
     ]
    }
   ],
   "source": [
    "gx()"
   ]
  },
  {
   "cell_type": "code",
   "execution_count": 1,
   "id": "70e1febb",
   "metadata": {},
   "outputs": [],
   "source": [
    "def f():\n",
    "    print('inside f')\n",
    "    def gx():\n",
    "        print('inside gx')\n",
    "        f()\n",
    "    gx()"
   ]
  },
  {
   "cell_type": "code",
   "execution_count": null,
   "id": "6893bdf4",
   "metadata": {},
   "outputs": [],
   "source": [
    "f()"
   ]
  },
  {
   "cell_type": "code",
   "execution_count": 1,
   "id": "62e45596",
   "metadata": {},
   "outputs": [
    {
     "name": "stdout",
     "output_type": "stream",
     "text": [
      "in g(x): x = 4\n"
     ]
    }
   ],
   "source": [
    "def g(x):\n",
    "    def h():\n",
    "        x = 'abc'\n",
    "    x = x+1\n",
    "    print('in g(x): x =', x)\n",
    "    h()\n",
    "    return x\n",
    "x = 3\n",
    "z = g(x)"
   ]
  },
  {
   "cell_type": "code",
   "execution_count": 4,
   "id": "5549a19e",
   "metadata": {},
   "outputs": [],
   "source": [
    "def g(x):\n",
    "    def h(x):\n",
    "        x = x+1\n",
    "        print('in g(x): x =', x)\n",
    "    x = x+1\n",
    "    print('in g(x): x =', x)\n",
    "    h(x)\n",
    "    return x"
   ]
  },
  {
   "cell_type": "code",
   "execution_count": 5,
   "id": "0f67a77a",
   "metadata": {},
   "outputs": [
    {
     "name": "stdout",
     "output_type": "stream",
     "text": [
      "in g(x): x = 4\n",
      "in g(x): x = 5\n",
      "in main program scope: z = 4\n",
      "in main program scope: x = 3\n"
     ]
    }
   ],
   "source": [
    "x = 3\n",
    "z = g(x)\n",
    "print('in main program scope: z =',z)\n",
    "print('in main program scope: x =',x)"
   ]
  },
  {
   "cell_type": "markdown",
   "id": "ed6e24c2",
   "metadata": {},
   "source": [
    "### Everything in python is an object"
   ]
  },
  {
   "cell_type": "code",
   "execution_count": 6,
   "id": "7a5005c0",
   "metadata": {},
   "outputs": [],
   "source": [
    "# function as object\n",
    "def f(num):\n",
    "    return num**2"
   ]
  },
  {
   "cell_type": "code",
   "execution_count": 7,
   "id": "86e12f90",
   "metadata": {},
   "outputs": [
    {
     "data": {
      "text/plain": [
       "4"
      ]
     },
     "execution_count": 7,
     "metadata": {},
     "output_type": "execute_result"
    }
   ],
   "source": [
    "f(2)"
   ]
  },
  {
   "cell_type": "code",
   "execution_count": 10,
   "id": "79c652c0",
   "metadata": {},
   "outputs": [],
   "source": [
    "# aliasing function\n",
    "x = f"
   ]
  },
  {
   "cell_type": "code",
   "execution_count": 11,
   "id": "177e5fae",
   "metadata": {},
   "outputs": [
    {
     "data": {
      "text/plain": [
       "16"
      ]
     },
     "execution_count": 11,
     "metadata": {},
     "output_type": "execute_result"
    }
   ],
   "source": [
    "x(4)"
   ]
  },
  {
   "cell_type": "code",
   "execution_count": 12,
   "id": "eb354bdd",
   "metadata": {},
   "outputs": [],
   "source": [
    "del f"
   ]
  },
  {
   "cell_type": "code",
   "execution_count": 13,
   "id": "90aa09ac",
   "metadata": {},
   "outputs": [
    {
     "data": {
      "text/plain": [
       "81"
      ]
     },
     "execution_count": 13,
     "metadata": {},
     "output_type": "execute_result"
    }
   ],
   "source": [
    "x(9)"
   ]
  },
  {
   "cell_type": "code",
   "execution_count": 14,
   "id": "df6874a4",
   "metadata": {},
   "outputs": [
    {
     "ename": "NameError",
     "evalue": "name 'f' is not defined",
     "output_type": "error",
     "traceback": [
      "\u001b[1;31m---------------------------------------------------------------------------\u001b[0m",
      "\u001b[1;31mNameError\u001b[0m                                 Traceback (most recent call last)",
      "Input \u001b[1;32mIn [14]\u001b[0m, in \u001b[0;36m<cell line: 1>\u001b[1;34m()\u001b[0m\n\u001b[1;32m----> 1\u001b[0m \u001b[43mf\u001b[49m\n",
      "\u001b[1;31mNameError\u001b[0m: name 'f' is not defined"
     ]
    }
   ],
   "source": [
    "f"
   ]
  },
  {
   "cell_type": "code",
   "execution_count": 15,
   "id": "95e23130",
   "metadata": {},
   "outputs": [
    {
     "data": {
      "text/plain": [
       "function"
      ]
     },
     "execution_count": 15,
     "metadata": {},
     "output_type": "execute_result"
    }
   ],
   "source": [
    "type(x)"
   ]
  },
  {
   "cell_type": "code",
   "execution_count": 17,
   "id": "92433f02",
   "metadata": {},
   "outputs": [],
   "source": [
    "L = [1,2,3,4,x]"
   ]
  },
  {
   "cell_type": "code",
   "execution_count": 18,
   "id": "8ee8e205",
   "metadata": {},
   "outputs": [
    {
     "data": {
      "text/plain": [
       "16"
      ]
     },
     "execution_count": 18,
     "metadata": {},
     "output_type": "execute_result"
    }
   ],
   "source": [
    "L[-1](4)"
   ]
  },
  {
   "cell_type": "code",
   "execution_count": 19,
   "id": "74958fbb",
   "metadata": {},
   "outputs": [],
   "source": [
    "L = [1,2,3,4,x(5)]"
   ]
  },
  {
   "cell_type": "code",
   "execution_count": 20,
   "id": "afbdfaf1",
   "metadata": {},
   "outputs": [
    {
     "data": {
      "text/plain": [
       "[1, 2, 3, 4, 25]"
      ]
     },
     "execution_count": 20,
     "metadata": {},
     "output_type": "execute_result"
    }
   ],
   "source": [
    "L"
   ]
  },
  {
   "cell_type": "code",
   "execution_count": 21,
   "id": "d68b709f",
   "metadata": {},
   "outputs": [
    {
     "name": "stdout",
     "output_type": "stream",
     "text": [
      "inside func_b\n",
      "inside func_a\n",
      "None\n"
     ]
    }
   ],
   "source": [
    "def func_a():\n",
    "    print('inside func_a')\n",
    "def func_b(y):\n",
    "    print('inside func_b')\n",
    "    return y()\n",
    "\n",
    "\n",
    "print(func_b(func_a))"
   ]
  },
  {
   "cell_type": "code",
   "execution_count": 22,
   "id": "c86beced",
   "metadata": {},
   "outputs": [],
   "source": [
    "def f():\n",
    "    def x(a,b):\n",
    "        return a+b\n",
    "    return x"
   ]
  },
  {
   "cell_type": "code",
   "execution_count": 27,
   "id": "ea8c74d2",
   "metadata": {},
   "outputs": [
    {
     "data": {
      "text/plain": [
       "7"
      ]
     },
     "execution_count": 27,
     "metadata": {},
     "output_type": "execute_result"
    }
   ],
   "source": [
    "f()(3,4)"
   ]
  },
  {
   "cell_type": "markdown",
   "id": "48bcd34a",
   "metadata": {},
   "source": [
    "## Benifits of Function:\n",
    "- Every code is self-contained and used to break up the entire login into pieces (Code Modularity)\n",
    "\n",
    "- Works on the philosophy of write once use forever! (Code Reusability)\n",
    "\n",
    "- code is organised and coherent (Code Readability)"
   ]
  },
  {
   "cell_type": "markdown",
   "id": "0de344e2",
   "metadata": {},
   "source": [
    "# Argument:\n",
    "- The special syntax *args in function definitions in Python is used to pass a variable number of arguments to a function. It is used to pass a non-keyworded, variable-length argument list. "
   ]
  },
  {
   "cell_type": "code",
   "execution_count": 7,
   "id": "eced6a8f",
   "metadata": {},
   "outputs": [],
   "source": [
    "def add(*args):\n",
    "    add = 0\n",
    "    for i in args:\n",
    "        add += i   \n",
    "    return add"
   ]
  },
  {
   "cell_type": "code",
   "execution_count": 8,
   "id": "dd23a3f6",
   "metadata": {},
   "outputs": [
    {
     "data": {
      "text/plain": [
       "10"
      ]
     },
     "execution_count": 8,
     "metadata": {},
     "output_type": "execute_result"
    }
   ],
   "source": [
    "add(1,2,3,4)"
   ]
  },
  {
   "cell_type": "markdown",
   "id": "14323854",
   "metadata": {},
   "source": [
    "# Keyword Arguments\n",
    "- The special syntax **kwargs in function definitions in Python is used to pass a keyworded, variable-length argument list. We use the name kwargs with the double star. The reason is that the double star allows us to pass through keyword arguments (and any number of them)."
   ]
  },
  {
   "cell_type": "code",
   "execution_count": 9,
   "id": "6e492e26",
   "metadata": {},
   "outputs": [],
   "source": [
    "def myFun(**kwargs):\n",
    "    for key, value in kwargs.items():\n",
    "        print(\"%s == %s\" % (key, value))"
   ]
  },
  {
   "cell_type": "code",
   "execution_count": 10,
   "id": "331b1e37",
   "metadata": {},
   "outputs": [
    {
     "name": "stdout",
     "output_type": "stream",
     "text": [
      "name == MIT\n",
      "year == 2023\n"
     ]
    }
   ],
   "source": [
    "myFun(name = 'MIT', year = 2023)"
   ]
  },
  {
   "cell_type": "code",
   "execution_count": null,
   "id": "396b6af5",
   "metadata": {},
   "outputs": [],
   "source": [
    "class Mechanical:\n",
    "    \n",
    "    def __init__(self,name,batch,age):\n",
    "        self.name = name\n",
    "        self.batch = batch\n",
    "        self.age = age\n",
    "    "
   ]
  },
  {
   "cell_type": "code",
   "execution_count": 11,
   "id": "0a3fbb71",
   "metadata": {},
   "outputs": [],
   "source": [
    "class MathOperation:\n",
    "    \n",
    "    def __init__(self,a,b):\n",
    "        self.a = a\n",
    "        self.b = b\n",
    "        \n",
    "    def add(self):\n",
    "        return self.a + self.b\n",
    "    \n",
    "    def sub(self):\n",
    "        return self.a - self.b\n",
    "    \n",
    "    def mul(self):\n",
    "        return self.a * self.b\n",
    "    \n",
    "    def div(self):\n",
    "        return self.a / self.b"
   ]
  },
  {
   "cell_type": "code",
   "execution_count": 12,
   "id": "f60f2789",
   "metadata": {},
   "outputs": [],
   "source": [
    "math = MathOperation(10,9)"
   ]
  },
  {
   "cell_type": "code",
   "execution_count": 13,
   "id": "57e7b7b3",
   "metadata": {},
   "outputs": [
    {
     "data": {
      "text/plain": [
       "19"
      ]
     },
     "execution_count": 13,
     "metadata": {},
     "output_type": "execute_result"
    }
   ],
   "source": [
    "math.add()"
   ]
  },
  {
   "cell_type": "code",
   "execution_count": 14,
   "id": "d97257a3",
   "metadata": {},
   "outputs": [
    {
     "data": {
      "text/plain": [
       "1.1111111111111112"
      ]
     },
     "execution_count": 14,
     "metadata": {},
     "output_type": "execute_result"
    }
   ],
   "source": [
    "math.div()"
   ]
  },
  {
   "cell_type": "code",
   "execution_count": 15,
   "id": "b0bff13c",
   "metadata": {},
   "outputs": [
    {
     "data": {
      "text/plain": [
       "1"
      ]
     },
     "execution_count": 15,
     "metadata": {},
     "output_type": "execute_result"
    }
   ],
   "source": [
    "math.sub()"
   ]
  },
  {
   "cell_type": "code",
   "execution_count": 16,
   "id": "65e0b644",
   "metadata": {},
   "outputs": [
    {
     "data": {
      "text/plain": [
       "90"
      ]
     },
     "execution_count": 16,
     "metadata": {},
     "output_type": "execute_result"
    }
   ],
   "source": [
    "math.mul()"
   ]
  },
  {
   "cell_type": "code",
   "execution_count": null,
   "id": "5dcc5288",
   "metadata": {},
   "outputs": [],
   "source": []
  }
 ],
 "metadata": {
  "kernelspec": {
   "display_name": "Python 3 (ipykernel)",
   "language": "python",
   "name": "python3"
  },
  "language_info": {
   "codemirror_mode": {
    "name": "ipython",
    "version": 3
   },
   "file_extension": ".py",
   "mimetype": "text/x-python",
   "name": "python",
   "nbconvert_exporter": "python",
   "pygments_lexer": "ipython3",
   "version": "3.10.9"
  }
 },
 "nbformat": 4,
 "nbformat_minor": 5
}
