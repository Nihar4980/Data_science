{
 "cells": [
  {
   "cell_type": "markdown",
   "id": "cee013ec",
   "metadata": {},
   "source": [
    "# Python"
   ]
  },
  {
   "cell_type": "markdown",
   "id": "f6d39107",
   "metadata": {},
   "source": [
    "# python datatype\n",
    "- Numeric Datatype\n",
    "    - Integer\n",
    "    - Float\n",
    "    - Boolean\n",
    "    - Complex\n",
    "- String\n",
    "- Tuple\n",
    "- List\n",
    "- Dictionary\n",
    "- Set"
   ]
  },
  {
   "cell_type": "markdown",
   "id": "cf355bd0",
   "metadata": {},
   "source": [
    "# Numeric Datatype"
   ]
  },
  {
   "cell_type": "markdown",
   "id": "92d969cf",
   "metadata": {},
   "source": [
    "### Integer"
   ]
  },
  {
   "cell_type": "code",
   "execution_count": 1,
   "id": "cd4bbfeb",
   "metadata": {},
   "outputs": [
    {
     "data": {
      "text/plain": [
       "5"
      ]
     },
     "execution_count": 1,
     "metadata": {},
     "output_type": "execute_result"
    }
   ],
   "source": [
    "a = 5\n",
    "a"
   ]
  },
  {
   "cell_type": "code",
   "execution_count": 2,
   "id": "917f5ed2",
   "metadata": {},
   "outputs": [
    {
     "name": "stdout",
     "output_type": "stream",
     "text": [
      "5\n"
     ]
    }
   ],
   "source": [
    "print(a)"
   ]
  },
  {
   "cell_type": "code",
   "execution_count": 3,
   "id": "a83f93f5",
   "metadata": {},
   "outputs": [
    {
     "data": {
      "text/plain": [
       "6"
      ]
     },
     "execution_count": 3,
     "metadata": {},
     "output_type": "execute_result"
    }
   ],
   "source": [
    "a = 6\n",
    "a"
   ]
  },
  {
   "cell_type": "code",
   "execution_count": 4,
   "id": "5ffcdf3e",
   "metadata": {},
   "outputs": [
    {
     "data": {
      "text/plain": [
       "7"
      ]
     },
     "execution_count": 4,
     "metadata": {},
     "output_type": "execute_result"
    }
   ],
   "source": [
    "b = 7\n",
    "b"
   ]
  },
  {
   "cell_type": "code",
   "execution_count": 5,
   "id": "49305ad8",
   "metadata": {},
   "outputs": [
    {
     "name": "stdout",
     "output_type": "stream",
     "text": [
      "<class 'int'>\n"
     ]
    }
   ],
   "source": [
    "c = 9\n",
    "print(type(c))"
   ]
  },
  {
   "cell_type": "code",
   "execution_count": 6,
   "id": "db5071bc",
   "metadata": {},
   "outputs": [
    {
     "data": {
      "text/plain": [
       "int"
      ]
     },
     "execution_count": 6,
     "metadata": {},
     "output_type": "execute_result"
    }
   ],
   "source": [
    "type(c)"
   ]
  },
  {
   "cell_type": "code",
   "execution_count": 7,
   "id": "159a0c5e",
   "metadata": {},
   "outputs": [],
   "source": [
    "a = 5\n",
    "b = 6"
   ]
  },
  {
   "cell_type": "markdown",
   "id": "7c460270",
   "metadata": {},
   "source": [
    "#### Numeric operation "
   ]
  },
  {
   "cell_type": "code",
   "execution_count": 8,
   "id": "b8285474",
   "metadata": {},
   "outputs": [
    {
     "data": {
      "text/plain": [
       "30"
      ]
     },
     "execution_count": 8,
     "metadata": {},
     "output_type": "execute_result"
    }
   ],
   "source": [
    "a*b"
   ]
  },
  {
   "cell_type": "code",
   "execution_count": 9,
   "id": "488dea63",
   "metadata": {},
   "outputs": [
    {
     "data": {
      "text/plain": [
       "11"
      ]
     },
     "execution_count": 9,
     "metadata": {},
     "output_type": "execute_result"
    }
   ],
   "source": [
    "a+b"
   ]
  },
  {
   "cell_type": "code",
   "execution_count": 10,
   "id": "19c1b36c",
   "metadata": {},
   "outputs": [
    {
     "data": {
      "text/plain": [
       "-1"
      ]
     },
     "execution_count": 10,
     "metadata": {},
     "output_type": "execute_result"
    }
   ],
   "source": [
    "a-b"
   ]
  },
  {
   "cell_type": "code",
   "execution_count": 11,
   "id": "f0a8b40d",
   "metadata": {},
   "outputs": [
    {
     "data": {
      "text/plain": [
       "0.8333333333333334"
      ]
     },
     "execution_count": 11,
     "metadata": {},
     "output_type": "execute_result"
    }
   ],
   "source": [
    "a/b"
   ]
  },
  {
   "cell_type": "code",
   "execution_count": 12,
   "id": "b34c3a4e",
   "metadata": {},
   "outputs": [],
   "source": [
    "class MathOperation:\n",
    "    \n",
    "    def __init__(self,a,b):\n",
    "        self.a = a\n",
    "        self.b = b\n",
    "        \n",
    "    def add(self):\n",
    "        return self.a + self.b\n",
    "    \n",
    "    def sub(self):\n",
    "        return self.a - self.b\n",
    "    \n",
    "    def mul(self):\n",
    "        return self.a * self.b\n",
    "    \n",
    "    def div(self):\n",
    "        return self.a / self.b\n",
    "    "
   ]
  },
  {
   "cell_type": "code",
   "execution_count": 13,
   "id": "4f02a86c",
   "metadata": {},
   "outputs": [],
   "source": [
    "x = MathOperation(5,6)"
   ]
  },
  {
   "cell_type": "code",
   "execution_count": 14,
   "id": "1b5881c4",
   "metadata": {},
   "outputs": [
    {
     "data": {
      "text/plain": [
       "11"
      ]
     },
     "execution_count": 14,
     "metadata": {},
     "output_type": "execute_result"
    }
   ],
   "source": [
    "x.add()"
   ]
  },
  {
   "cell_type": "code",
   "execution_count": 15,
   "id": "f421f18b",
   "metadata": {},
   "outputs": [
    {
     "data": {
      "text/plain": [
       "-1"
      ]
     },
     "execution_count": 15,
     "metadata": {},
     "output_type": "execute_result"
    }
   ],
   "source": [
    "x.sub()"
   ]
  },
  {
   "cell_type": "code",
   "execution_count": 16,
   "id": "2f8b5397",
   "metadata": {},
   "outputs": [
    {
     "data": {
      "text/plain": [
       "30"
      ]
     },
     "execution_count": 16,
     "metadata": {},
     "output_type": "execute_result"
    }
   ],
   "source": [
    "x.mul()"
   ]
  },
  {
   "cell_type": "code",
   "execution_count": 17,
   "id": "5ec95522",
   "metadata": {},
   "outputs": [
    {
     "data": {
      "text/plain": [
       "0.8333333333333334"
      ]
     },
     "execution_count": 17,
     "metadata": {},
     "output_type": "execute_result"
    }
   ],
   "source": [
    "x.div()"
   ]
  },
  {
   "cell_type": "code",
   "execution_count": 18,
   "id": "25cce7b8",
   "metadata": {},
   "outputs": [
    {
     "data": {
      "text/plain": [
       "11"
      ]
     },
     "execution_count": 18,
     "metadata": {},
     "output_type": "execute_result"
    }
   ],
   "source": [
    "A = 5\n",
    "B = 6\n",
    "A+B"
   ]
  },
  {
   "cell_type": "markdown",
   "id": "dbc787ae",
   "metadata": {},
   "source": [
    "#### python pep8 \n",
    "https://peps.python.org/pep-0008/"
   ]
  },
  {
   "cell_type": "code",
   "execution_count": 19,
   "id": "d5646ab3",
   "metadata": {},
   "outputs": [],
   "source": [
    "_a =5"
   ]
  },
  {
   "cell_type": "code",
   "execution_count": 20,
   "id": "94c48368",
   "metadata": {},
   "outputs": [],
   "source": [
    "a1 =5"
   ]
  },
  {
   "cell_type": "code",
   "execution_count": 21,
   "id": "fca11bcb",
   "metadata": {},
   "outputs": [],
   "source": [
    "a_1 = 5"
   ]
  },
  {
   "cell_type": "code",
   "execution_count": 22,
   "id": "c713956f",
   "metadata": {},
   "outputs": [
    {
     "data": {
      "text/plain": [
       "90"
      ]
     },
     "execution_count": 22,
     "metadata": {},
     "output_type": "execute_result"
    }
   ],
   "source": [
    "height = 5\n",
    "length = 6\n",
    "base = 3\n",
    "volume = height * length * base\n",
    "volume"
   ]
  },
  {
   "cell_type": "markdown",
   "id": "0e983da7",
   "metadata": {},
   "source": [
    "# Float"
   ]
  },
  {
   "cell_type": "code",
   "execution_count": 23,
   "id": "6d43b967",
   "metadata": {},
   "outputs": [
    {
     "data": {
      "text/plain": [
       "float"
      ]
     },
     "execution_count": 23,
     "metadata": {},
     "output_type": "execute_result"
    }
   ],
   "source": [
    "a = 6.4\n",
    "type(a)"
   ]
  },
  {
   "cell_type": "code",
   "execution_count": 24,
   "id": "9a93beee",
   "metadata": {},
   "outputs": [
    {
     "data": {
      "text/plain": [
       "10.1"
      ]
     },
     "execution_count": 24,
     "metadata": {},
     "output_type": "execute_result"
    }
   ],
   "source": [
    "a,b,c = 4.5,5.6,6.7\n",
    "a+b"
   ]
  },
  {
   "cell_type": "code",
   "execution_count": 25,
   "id": "039b6700",
   "metadata": {},
   "outputs": [
    {
     "data": {
      "text/plain": [
       "30.150000000000002"
      ]
     },
     "execution_count": 25,
     "metadata": {},
     "output_type": "execute_result"
    }
   ],
   "source": [
    "c*a"
   ]
  },
  {
   "cell_type": "code",
   "execution_count": 26,
   "id": "cd29c041",
   "metadata": {},
   "outputs": [
    {
     "name": "stdout",
     "output_type": "stream",
     "text": [
      "4.5\n",
      "5.6\n",
      "6.7\n"
     ]
    }
   ],
   "source": [
    "print(a)\n",
    "print(b)\n",
    "print(c)"
   ]
  },
  {
   "cell_type": "code",
   "execution_count": 27,
   "id": "4dafe679",
   "metadata": {},
   "outputs": [
    {
     "name": "stdout",
     "output_type": "stream",
     "text": [
      "4.5\n",
      "5.6\n",
      "6.7\n"
     ]
    }
   ],
   "source": [
    "print(a,b,c,sep='\\n')"
   ]
  },
  {
   "cell_type": "code",
   "execution_count": 28,
   "id": "ea813579",
   "metadata": {},
   "outputs": [
    {
     "name": "stdout",
     "output_type": "stream",
     "text": [
      "a = 4.5\n"
     ]
    }
   ],
   "source": [
    "print('a =',a)"
   ]
  },
  {
   "cell_type": "code",
   "execution_count": 29,
   "id": "b928fc28",
   "metadata": {},
   "outputs": [
    {
     "name": "stdout",
     "output_type": "stream",
     "text": [
      " a = 4.5 \n",
      " b = 5.6 \n",
      " c = 6.7\n"
     ]
    }
   ],
   "source": [
    "print(' a =',a,'\\n','b =',b,'\\n','c =',c)"
   ]
  },
  {
   "cell_type": "markdown",
   "id": "2a1b9f3f",
   "metadata": {},
   "source": [
    "# Boolean"
   ]
  },
  {
   "cell_type": "code",
   "execution_count": 30,
   "id": "f887f901",
   "metadata": {},
   "outputs": [
    {
     "name": "stdout",
     "output_type": "stream",
     "text": [
      "False\n"
     ]
    }
   ],
   "source": [
    "a = 5\n",
    "b = 6\n",
    "print(a>b)"
   ]
  },
  {
   "cell_type": "code",
   "execution_count": 31,
   "id": "fa98a481",
   "metadata": {},
   "outputs": [
    {
     "data": {
      "text/plain": [
       "True"
      ]
     },
     "execution_count": 31,
     "metadata": {},
     "output_type": "execute_result"
    }
   ],
   "source": [
    "a<b"
   ]
  },
  {
   "cell_type": "code",
   "execution_count": 32,
   "id": "991a517e",
   "metadata": {},
   "outputs": [
    {
     "data": {
      "text/plain": [
       "bool"
      ]
     },
     "execution_count": 32,
     "metadata": {},
     "output_type": "execute_result"
    }
   ],
   "source": [
    "type(a<b)"
   ]
  },
  {
   "cell_type": "code",
   "execution_count": 33,
   "id": "c963b4fe",
   "metadata": {},
   "outputs": [
    {
     "data": {
      "text/plain": [
       "2"
      ]
     },
     "execution_count": 33,
     "metadata": {},
     "output_type": "execute_result"
    }
   ],
   "source": [
    "True + True"
   ]
  },
  {
   "cell_type": "code",
   "execution_count": 34,
   "id": "0538e8af",
   "metadata": {},
   "outputs": [
    {
     "data": {
      "text/plain": [
       "0"
      ]
     },
     "execution_count": 34,
     "metadata": {},
     "output_type": "execute_result"
    }
   ],
   "source": [
    "True * False"
   ]
  },
  {
   "cell_type": "markdown",
   "id": "f9bc73dd",
   "metadata": {},
   "source": [
    "# Complex"
   ]
  },
  {
   "cell_type": "code",
   "execution_count": 35,
   "id": "d83442a3",
   "metadata": {},
   "outputs": [
    {
     "data": {
      "text/plain": [
       "(11+11j)"
      ]
     },
     "execution_count": 35,
     "metadata": {},
     "output_type": "execute_result"
    }
   ],
   "source": [
    "a = 5 + 4j\n",
    "b = 6 + 7j\n",
    "\n",
    "a+b"
   ]
  },
  {
   "cell_type": "code",
   "execution_count": 36,
   "id": "1000ee80",
   "metadata": {},
   "outputs": [
    {
     "data": {
      "text/plain": [
       "complex"
      ]
     },
     "execution_count": 36,
     "metadata": {},
     "output_type": "execute_result"
    }
   ],
   "source": [
    "type(a)"
   ]
  },
  {
   "cell_type": "code",
   "execution_count": 37,
   "id": "120aab85",
   "metadata": {},
   "outputs": [
    {
     "data": {
      "text/plain": [
       "(-16+0j)"
      ]
     },
     "execution_count": 37,
     "metadata": {},
     "output_type": "execute_result"
    }
   ],
   "source": [
    "a = 4j\n",
    "b = 4j\n",
    "a*b"
   ]
  },
  {
   "cell_type": "markdown",
   "id": "74740bc2",
   "metadata": {},
   "source": [
    "x^2 - 6x + 10 = 0\n",
    "\n",
    "x = (-b +- (b^2 - 4ac)^1/2)/2a\n",
    "\n",
    "From x value equation break (b^2 - 4ac)^1/2\n",
    "4 - 5 = -1\n",
    "(-1)^1/2 = i or(python i == j)"
   ]
  },
  {
   "cell_type": "code",
   "execution_count": 1,
   "id": "ecad059d",
   "metadata": {},
   "outputs": [
    {
     "data": {
      "text/plain": [
       "0"
      ]
     },
     "execution_count": 1,
     "metadata": {},
     "output_type": "execute_result"
    }
   ],
   "source": [
    "# how to find remainder of a number\n",
    "10%2 # % sign denoted as remainder in python"
   ]
  },
  {
   "cell_type": "code",
   "execution_count": 39,
   "id": "a26ffff9",
   "metadata": {},
   "outputs": [
    {
     "data": {
      "text/plain": [
       "3.3333333333333335"
      ]
     },
     "execution_count": 39,
     "metadata": {},
     "output_type": "execute_result"
    }
   ],
   "source": [
    "10/3 # division result"
   ]
  },
  {
   "cell_type": "code",
   "execution_count": 3,
   "id": "0e6d8b58",
   "metadata": {},
   "outputs": [
    {
     "data": {
      "text/plain": [
       "3"
      ]
     },
     "execution_count": 3,
     "metadata": {},
     "output_type": "execute_result"
    }
   ],
   "source": [
    "10//3 # // output is an whole number"
   ]
  },
  {
   "cell_type": "code",
   "execution_count": 5,
   "id": "c051a94c",
   "metadata": {},
   "outputs": [
    {
     "data": {
      "text/plain": [
       "18.6"
      ]
     },
     "execution_count": 5,
     "metadata": {},
     "output_type": "execute_result"
    }
   ],
   "source": [
    "9.3*2"
   ]
  },
  {
   "cell_type": "code",
   "execution_count": 7,
   "id": "8ab4118d",
   "metadata": {},
   "outputs": [
    {
     "data": {
      "text/plain": [
       "4"
      ]
     },
     "execution_count": 7,
     "metadata": {},
     "output_type": "execute_result"
    }
   ],
   "source": [
    "round(1.5*3)"
   ]
  },
  {
   "cell_type": "code",
   "execution_count": 41,
   "id": "66ef6a05",
   "metadata": {},
   "outputs": [
    {
     "data": {
      "text/plain": [
       "19"
      ]
     },
     "execution_count": 41,
     "metadata": {},
     "output_type": "execute_result"
    }
   ],
   "source": [
    "round(9.3 * 2)"
   ]
  },
  {
   "cell_type": "markdown",
   "id": "2a1cdbfc",
   "metadata": {},
   "source": [
    "# String"
   ]
  },
  {
   "cell_type": "code",
   "execution_count": 1,
   "id": "10e47c39",
   "metadata": {},
   "outputs": [
    {
     "data": {
      "text/plain": [
       "'Nihar'"
      ]
     },
     "execution_count": 1,
     "metadata": {},
     "output_type": "execute_result"
    }
   ],
   "source": [
    "x = 'Nihar'\n",
    "x"
   ]
  },
  {
   "cell_type": "code",
   "execution_count": 2,
   "id": "f4a90915",
   "metadata": {},
   "outputs": [
    {
     "data": {
      "text/plain": [
       "str"
      ]
     },
     "execution_count": 2,
     "metadata": {},
     "output_type": "execute_result"
    }
   ],
   "source": [
    "type(x)"
   ]
  },
  {
   "cell_type": "code",
   "execution_count": 3,
   "id": "9214103c",
   "metadata": {},
   "outputs": [
    {
     "data": {
      "text/plain": [
       "'This is a beautiful'"
      ]
     },
     "execution_count": 3,
     "metadata": {},
     "output_type": "execute_result"
    }
   ],
   "source": [
    "y = \"This is a beautiful\"\n",
    "y"
   ]
  },
  {
   "cell_type": "code",
   "execution_count": 4,
   "id": "2ae3b685",
   "metadata": {},
   "outputs": [
    {
     "data": {
      "text/plain": [
       "str"
      ]
     },
     "execution_count": 4,
     "metadata": {},
     "output_type": "execute_result"
    }
   ],
   "source": [
    "type(y)"
   ]
  },
  {
   "cell_type": "code",
   "execution_count": 2,
   "id": "504f65c0",
   "metadata": {},
   "outputs": [
    {
     "name": "stdout",
     "output_type": "stream",
     "text": [
      "This \n",
      "is a beautiful\n"
     ]
    }
   ],
   "source": [
    "z = \"\"\"This \n",
    "is a beautiful\"\"\"\n",
    "print(z)\n"
   ]
  },
  {
   "cell_type": "code",
   "execution_count": 6,
   "id": "daf924d8",
   "metadata": {},
   "outputs": [
    {
     "name": "stdout",
     "output_type": "stream",
     "text": [
      "This \n",
      "is a beautiful\n"
     ]
    }
   ],
   "source": [
    "print(z)"
   ]
  },
  {
   "cell_type": "code",
   "execution_count": 7,
   "id": "0b446e96",
   "metadata": {},
   "outputs": [
    {
     "name": "stdout",
     "output_type": "stream",
     "text": [
      "This is a beautiful place.\n",
      "Which is located at India.\n",
      "Near by Bay of Bengal\n"
     ]
    }
   ],
   "source": [
    "print(\"\"\"This is a beautiful place.\n",
    "Which is located at India.\n",
    "Near by Bay of Bengal\"\"\")"
   ]
  },
  {
   "cell_type": "code",
   "execution_count": 8,
   "id": "aebfeccf",
   "metadata": {},
   "outputs": [
    {
     "name": "stdout",
     "output_type": "stream",
     "text": [
      "This is a beautiful place, which is located at India,near by Bay of Bengal\n"
     ]
    }
   ],
   "source": [
    "print(\"This is a beautiful place, which is located at India,near by Bay of Bengal\")"
   ]
  },
  {
   "cell_type": "code",
   "execution_count": 9,
   "id": "0c672676",
   "metadata": {},
   "outputs": [
    {
     "data": {
      "text/plain": [
       "str"
      ]
     },
     "execution_count": 9,
     "metadata": {},
     "output_type": "execute_result"
    }
   ],
   "source": [
    "type(z)"
   ]
  },
  {
   "cell_type": "code",
   "execution_count": 10,
   "id": "ac99528b",
   "metadata": {},
   "outputs": [
    {
     "data": {
      "text/plain": [
       "'Nihar'"
      ]
     },
     "execution_count": 10,
     "metadata": {},
     "output_type": "execute_result"
    }
   ],
   "source": [
    "y"
   ]
  },
  {
   "cell_type": "code",
   "execution_count": 11,
   "id": "612571d4",
   "metadata": {},
   "outputs": [],
   "source": [
    "import re\n",
    "x = re.match('i',y)\n",
    "x"
   ]
  },
  {
   "cell_type": "code",
   "execution_count": 7,
   "id": "16825ea2",
   "metadata": {},
   "outputs": [
    {
     "name": "stdout",
     "output_type": "stream",
     "text": [
      " Bhubaneswar is the capital of Odisha\n"
     ]
    }
   ],
   "source": [
    "y = \" Bhubaneswar is the capital of Odisha\"\n",
    "print(y)"
   ]
  },
  {
   "cell_type": "code",
   "execution_count": 13,
   "id": "c201dbc1",
   "metadata": {},
   "outputs": [
    {
     "data": {
      "text/plain": [
       "'i'"
      ]
     },
     "execution_count": 13,
     "metadata": {},
     "output_type": "execute_result"
    }
   ],
   "source": [
    "# indexing\n",
    "y[12]"
   ]
  },
  {
   "cell_type": "code",
   "execution_count": 5,
   "id": "239ac81d",
   "metadata": {},
   "outputs": [
    {
     "data": {
      "text/plain": [
       "'bhubaneswar is the capital of odisha'"
      ]
     },
     "execution_count": 5,
     "metadata": {},
     "output_type": "execute_result"
    }
   ],
   "source": [
    "y.casefold()"
   ]
  },
  {
   "cell_type": "code",
   "execution_count": 8,
   "id": "14d1ff9e",
   "metadata": {},
   "outputs": [
    {
     "data": {
      "text/plain": [
       "['', 'Bhubaneswar', 'is', 'the', 'capital', 'of', 'Odisha']"
      ]
     },
     "execution_count": 8,
     "metadata": {},
     "output_type": "execute_result"
    }
   ],
   "source": [
    "y.split(\" \")"
   ]
  },
  {
   "cell_type": "code",
   "execution_count": 14,
   "id": "8c013785",
   "metadata": {},
   "outputs": [
    {
     "data": {
      "text/plain": [
       "'Bhubaneswar'"
      ]
     },
     "execution_count": 14,
     "metadata": {},
     "output_type": "execute_result"
    }
   ],
   "source": [
    "# Slicing\n",
    "y[0:11]"
   ]
  },
  {
   "cell_type": "code",
   "execution_count": 15,
   "id": "9ce535ac",
   "metadata": {},
   "outputs": [
    {
     "data": {
      "text/plain": [
       "'a'"
      ]
     },
     "execution_count": 15,
     "metadata": {},
     "output_type": "execute_result"
    }
   ],
   "source": [
    "y[-1]"
   ]
  },
  {
   "cell_type": "code",
   "execution_count": 16,
   "id": "8a121ec0",
   "metadata": {},
   "outputs": [
    {
     "data": {
      "text/plain": [
       "'ahsidO fo latipac eht si rawsenabuhB'"
      ]
     },
     "execution_count": 16,
     "metadata": {},
     "output_type": "execute_result"
    }
   ],
   "source": [
    "y[::-1]"
   ]
  },
  {
   "cell_type": "code",
   "execution_count": 17,
   "id": "4e9ea535",
   "metadata": {},
   "outputs": [
    {
     "data": {
      "text/plain": [
       "'Odisha'"
      ]
     },
     "execution_count": 17,
     "metadata": {},
     "output_type": "execute_result"
    }
   ],
   "source": [
    "y[-6:]"
   ]
  },
  {
   "cell_type": "code",
   "execution_count": 18,
   "id": "5974251b",
   "metadata": {},
   "outputs": [
    {
     "data": {
      "text/plain": [
       "'is the capital of Odisha'"
      ]
     },
     "execution_count": 18,
     "metadata": {},
     "output_type": "execute_result"
    }
   ],
   "source": [
    "y[12:]"
   ]
  },
  {
   "cell_type": "code",
   "execution_count": 19,
   "id": "794bb978",
   "metadata": {},
   "outputs": [
    {
     "name": "stdout",
     "output_type": "stream",
     "text": [
      "Bhubaneswar is the capital of Odisha\n",
      "['Bhubaneswar', 'is', 'the', 'capital', 'of', 'Odisha']\n",
      "Bhubaneswar is the capital of Odisha\n"
     ]
    }
   ],
   "source": [
    "print(y)\n",
    "y = y.split(' ')\n",
    "print(y)\n",
    "y = ' '.join(y)\n",
    "print(y)"
   ]
  },
  {
   "cell_type": "code",
   "execution_count": 20,
   "id": "335c5ae3",
   "metadata": {},
   "outputs": [
    {
     "data": {
      "text/plain": [
       "'b'"
      ]
     },
     "execution_count": 20,
     "metadata": {},
     "output_type": "execute_result"
    }
   ],
   "source": [
    "y[3]"
   ]
  },
  {
   "cell_type": "code",
   "execution_count": 21,
   "id": "2795f33c",
   "metadata": {},
   "outputs": [
    {
     "data": {
      "text/plain": [
       "'Bhubaneswar is the capital of Odisha'"
      ]
     },
     "execution_count": 21,
     "metadata": {},
     "output_type": "execute_result"
    }
   ],
   "source": [
    "y"
   ]
  },
  {
   "cell_type": "code",
   "execution_count": 22,
   "id": "d0e2fed7",
   "metadata": {},
   "outputs": [
    {
     "data": {
      "text/plain": [
       "36"
      ]
     },
     "execution_count": 22,
     "metadata": {},
     "output_type": "execute_result"
    }
   ],
   "source": [
    "# counting number of letter in a string\n",
    "len(y)"
   ]
  },
  {
   "cell_type": "code",
   "execution_count": 23,
   "id": "e00dc467",
   "metadata": {},
   "outputs": [
    {
     "data": {
      "text/plain": [
       "'Bhubaneswar is the capital of Odisha'"
      ]
     },
     "execution_count": 23,
     "metadata": {},
     "output_type": "execute_result"
    }
   ],
   "source": [
    "y[:]"
   ]
  },
  {
   "cell_type": "code",
   "execution_count": 24,
   "id": "bf21df5d",
   "metadata": {},
   "outputs": [
    {
     "data": {
      "text/plain": [
       "'Bhubaneswar'"
      ]
     },
     "execution_count": 24,
     "metadata": {},
     "output_type": "execute_result"
    }
   ],
   "source": [
    "y[0:11]"
   ]
  },
  {
   "cell_type": "code",
   "execution_count": 25,
   "id": "425964eb",
   "metadata": {},
   "outputs": [
    {
     "data": {
      "text/plain": [
       "'Bbeait paoOs'"
      ]
     },
     "execution_count": 25,
     "metadata": {},
     "output_type": "execute_result"
    }
   ],
   "source": [
    "y[0:37:3]"
   ]
  },
  {
   "cell_type": "code",
   "execution_count": 26,
   "id": "998a1179",
   "metadata": {},
   "outputs": [
    {
     "data": {
      "text/plain": [
       "'Bhubaneswar is the capital of Odisha'"
      ]
     },
     "execution_count": 26,
     "metadata": {},
     "output_type": "execute_result"
    }
   ],
   "source": [
    "y[0:37]"
   ]
  },
  {
   "cell_type": "code",
   "execution_count": 27,
   "id": "1bf35091",
   "metadata": {},
   "outputs": [
    {
     "data": {
      "text/plain": [
       "'Bhubaneswar is the capital of Odisha'"
      ]
     },
     "execution_count": 27,
     "metadata": {},
     "output_type": "execute_result"
    }
   ],
   "source": [
    "y[:]"
   ]
  },
  {
   "cell_type": "code",
   "execution_count": 28,
   "id": "aa952d62",
   "metadata": {},
   "outputs": [
    {
     "data": {
      "text/plain": [
       "'Buaewri h aia fOih'"
      ]
     },
     "execution_count": 28,
     "metadata": {},
     "output_type": "execute_result"
    }
   ],
   "source": [
    "y[::2]"
   ]
  },
  {
   "cell_type": "code",
   "execution_count": 29,
   "id": "7135afed",
   "metadata": {},
   "outputs": [
    {
     "data": {
      "text/plain": [
       "'ahsidO fo latipac eht si rawsenabuhB'"
      ]
     },
     "execution_count": 29,
     "metadata": {},
     "output_type": "execute_result"
    }
   ],
   "source": [
    "y[::-1]"
   ]
  },
  {
   "cell_type": "code",
   "execution_count": 30,
   "id": "7cac0849",
   "metadata": {},
   "outputs": [
    {
     "data": {
      "text/plain": [
       "'Bhubaneswar is the capital of Odisha'"
      ]
     },
     "execution_count": 30,
     "metadata": {},
     "output_type": "execute_result"
    }
   ],
   "source": [
    "y"
   ]
  },
  {
   "cell_type": "code",
   "execution_count": 31,
   "id": "67c9edcc",
   "metadata": {},
   "outputs": [
    {
     "data": {
      "text/plain": [
       "'asd oltpcets asnbh'"
      ]
     },
     "execution_count": 31,
     "metadata": {},
     "output_type": "execute_result"
    }
   ],
   "source": [
    "y[::-2]"
   ]
  },
  {
   "cell_type": "code",
   "execution_count": 32,
   "id": "f47335f8",
   "metadata": {},
   "outputs": [
    {
     "data": {
      "text/plain": [
       "11"
      ]
     },
     "execution_count": 32,
     "metadata": {},
     "output_type": "execute_result"
    }
   ],
   "source": [
    "y = \"hi, @#$$$hi\"\n",
    "len(y)"
   ]
  },
  {
   "cell_type": "code",
   "execution_count": 33,
   "id": "552e6372",
   "metadata": {},
   "outputs": [
    {
     "data": {
      "text/plain": [
       "'hi, @#$$$hi'"
      ]
     },
     "execution_count": 33,
     "metadata": {},
     "output_type": "execute_result"
    }
   ],
   "source": [
    "y"
   ]
  },
  {
   "cell_type": "code",
   "execution_count": 34,
   "id": "c59317f7",
   "metadata": {},
   "outputs": [
    {
     "data": {
      "text/plain": [
       "'hi, @#$$$hi'"
      ]
     },
     "execution_count": 34,
     "metadata": {},
     "output_type": "execute_result"
    }
   ],
   "source": [
    "y"
   ]
  },
  {
   "cell_type": "code",
   "execution_count": 35,
   "id": "74507685",
   "metadata": {},
   "outputs": [
    {
     "data": {
      "text/plain": [
       "'i$$@,h'"
      ]
     },
     "execution_count": 35,
     "metadata": {},
     "output_type": "execute_result"
    }
   ],
   "source": [
    "y[::-2]"
   ]
  },
  {
   "cell_type": "code",
   "execution_count": 36,
   "id": "53766b37",
   "metadata": {},
   "outputs": [
    {
     "data": {
      "text/plain": [
       "'hi, @#$$$hi'"
      ]
     },
     "execution_count": 36,
     "metadata": {},
     "output_type": "execute_result"
    }
   ],
   "source": [
    "y"
   ]
  },
  {
   "cell_type": "code",
   "execution_count": 37,
   "id": "cabff6ea",
   "metadata": {},
   "outputs": [],
   "source": [
    "import sys"
   ]
  },
  {
   "cell_type": "code",
   "execution_count": 38,
   "id": "8e08435e",
   "metadata": {},
   "outputs": [
    {
     "data": {
      "text/plain": [
       "60"
      ]
     },
     "execution_count": 38,
     "metadata": {},
     "output_type": "execute_result"
    }
   ],
   "source": [
    "sys.getsizeof(y)"
   ]
  },
  {
   "cell_type": "code",
   "execution_count": 39,
   "id": "eca08748",
   "metadata": {},
   "outputs": [
    {
     "data": {
      "text/plain": [
       "28"
      ]
     },
     "execution_count": 39,
     "metadata": {},
     "output_type": "execute_result"
    }
   ],
   "source": [
    "a = 5\n",
    "sys.getsizeof(a)\n"
   ]
  },
  {
   "cell_type": "code",
   "execution_count": 40,
   "id": "6148b42a",
   "metadata": {},
   "outputs": [
    {
     "data": {
      "text/plain": [
       "'hi, @#$$$hi'"
      ]
     },
     "execution_count": 40,
     "metadata": {},
     "output_type": "execute_result"
    }
   ],
   "source": [
    "y"
   ]
  },
  {
   "cell_type": "code",
   "execution_count": 41,
   "id": "ecb586a7",
   "metadata": {},
   "outputs": [
    {
     "data": {
      "text/plain": [
       "False"
      ]
     },
     "execution_count": 41,
     "metadata": {},
     "output_type": "execute_result"
    }
   ],
   "source": [
    "y.isupper()"
   ]
  },
  {
   "cell_type": "code",
   "execution_count": 42,
   "id": "33e61091",
   "metadata": {},
   "outputs": [
    {
     "data": {
      "text/plain": [
       "True"
      ]
     },
     "execution_count": 42,
     "metadata": {},
     "output_type": "execute_result"
    }
   ],
   "source": [
    "y.islower()"
   ]
  },
  {
   "cell_type": "code",
   "execution_count": 43,
   "id": "2f4537a7",
   "metadata": {},
   "outputs": [
    {
     "data": {
      "text/plain": [
       "False"
      ]
     },
     "execution_count": 43,
     "metadata": {},
     "output_type": "execute_result"
    }
   ],
   "source": [
    "y.istitle()"
   ]
  },
  {
   "cell_type": "code",
   "execution_count": 44,
   "id": "3c4d6cf2",
   "metadata": {},
   "outputs": [
    {
     "data": {
      "text/plain": [
       "'HI, @#$$$HI'"
      ]
     },
     "execution_count": 44,
     "metadata": {},
     "output_type": "execute_result"
    }
   ],
   "source": [
    "y.upper() "
   ]
  },
  {
   "cell_type": "code",
   "execution_count": 45,
   "id": "d35d2475",
   "metadata": {},
   "outputs": [
    {
     "data": {
      "text/plain": [
       "'hi, @#$$$hi'"
      ]
     },
     "execution_count": 45,
     "metadata": {},
     "output_type": "execute_result"
    }
   ],
   "source": [
    "y.lower()"
   ]
  },
  {
   "cell_type": "code",
   "execution_count": 46,
   "id": "595fb7b6",
   "metadata": {},
   "outputs": [
    {
     "data": {
      "text/plain": [
       "'Hi, @#$$$Hi'"
      ]
     },
     "execution_count": 46,
     "metadata": {},
     "output_type": "execute_result"
    }
   ],
   "source": [
    "y.title()"
   ]
  },
  {
   "cell_type": "code",
   "execution_count": 47,
   "id": "90855b30",
   "metadata": {},
   "outputs": [
    {
     "data": {
      "text/plain": [
       "True"
      ]
     },
     "execution_count": 47,
     "metadata": {},
     "output_type": "execute_result"
    }
   ],
   "source": [
    "(y.title()).istitle()\n"
   ]
  },
  {
   "cell_type": "markdown",
   "id": "56733072",
   "metadata": {},
   "source": [
    "# List"
   ]
  },
  {
   "cell_type": "code",
   "execution_count": 48,
   "id": "d801a9f3",
   "metadata": {},
   "outputs": [
    {
     "data": {
      "text/plain": [
       "list"
      ]
     },
     "execution_count": 48,
     "metadata": {},
     "output_type": "execute_result"
    }
   ],
   "source": [
    "a = [1,2,3,4]\n",
    "type(a)"
   ]
  },
  {
   "cell_type": "code",
   "execution_count": 49,
   "id": "ea8e804b",
   "metadata": {},
   "outputs": [
    {
     "data": {
      "text/plain": [
       "[[1, 2, 3, 4], 1]"
      ]
     },
     "execution_count": 49,
     "metadata": {},
     "output_type": "execute_result"
    }
   ],
   "source": [
    "b = [a,1]\n",
    "b"
   ]
  },
  {
   "cell_type": "code",
   "execution_count": 50,
   "id": "97fbd637",
   "metadata": {},
   "outputs": [
    {
     "data": {
      "text/plain": [
       "[1, 1.4, True, 'Hy']"
      ]
     },
     "execution_count": 50,
     "metadata": {},
     "output_type": "execute_result"
    }
   ],
   "source": [
    "c = [1,1.4,True,'Hy']\n",
    "c"
   ]
  },
  {
   "cell_type": "code",
   "execution_count": 9,
   "id": "842b9467",
   "metadata": {},
   "outputs": [],
   "source": [
    "c = [1,2,3,4,5,6,7,8,9]"
   ]
  },
  {
   "cell_type": "code",
   "execution_count": 52,
   "id": "272d8b8e",
   "metadata": {},
   "outputs": [
    {
     "data": {
      "text/plain": [
       "[1, 2, 3, 4, 5, 6, 7, 8, 9]"
      ]
     },
     "execution_count": 52,
     "metadata": {},
     "output_type": "execute_result"
    }
   ],
   "source": [
    "c"
   ]
  },
  {
   "cell_type": "code",
   "execution_count": 53,
   "id": "9c55624a",
   "metadata": {},
   "outputs": [
    {
     "data": {
      "text/plain": [
       "1"
      ]
     },
     "execution_count": 53,
     "metadata": {},
     "output_type": "execute_result"
    }
   ],
   "source": [
    "# indexing\n",
    "c[0]"
   ]
  },
  {
   "cell_type": "code",
   "execution_count": 54,
   "id": "640ffe0e",
   "metadata": {},
   "outputs": [
    {
     "data": {
      "text/plain": [
       "[1, 2, 3, 4]"
      ]
     },
     "execution_count": 54,
     "metadata": {},
     "output_type": "execute_result"
    }
   ],
   "source": [
    "# slicing\n",
    "c[0:4]"
   ]
  },
  {
   "cell_type": "code",
   "execution_count": 55,
   "id": "43ae4e26",
   "metadata": {},
   "outputs": [
    {
     "data": {
      "text/plain": [
       "[1, 2, 3, 4, 5, 6, 7, 8, 9]"
      ]
     },
     "execution_count": 55,
     "metadata": {},
     "output_type": "execute_result"
    }
   ],
   "source": [
    "c"
   ]
  },
  {
   "cell_type": "code",
   "execution_count": 56,
   "id": "296cf9e8",
   "metadata": {},
   "outputs": [],
   "source": [
    "c = c[::-1]"
   ]
  },
  {
   "cell_type": "code",
   "execution_count": 57,
   "id": "ed132252",
   "metadata": {},
   "outputs": [
    {
     "data": {
      "text/plain": [
       "[9, 8, 7, 6, 5, 4, 3, 2, 1]"
      ]
     },
     "execution_count": 57,
     "metadata": {},
     "output_type": "execute_result"
    }
   ],
   "source": [
    "c"
   ]
  },
  {
   "cell_type": "code",
   "execution_count": 58,
   "id": "74eb5249",
   "metadata": {},
   "outputs": [],
   "source": [
    "c.reverse()"
   ]
  },
  {
   "cell_type": "code",
   "execution_count": 59,
   "id": "a6d69089",
   "metadata": {},
   "outputs": [
    {
     "data": {
      "text/plain": [
       "[1, 2, 3, 4, 5, 6, 7, 8, 9]"
      ]
     },
     "execution_count": 59,
     "metadata": {},
     "output_type": "execute_result"
    }
   ],
   "source": [
    "c"
   ]
  },
  {
   "cell_type": "code",
   "execution_count": 60,
   "id": "13910f8b",
   "metadata": {},
   "outputs": [
    {
     "name": "stdout",
     "output_type": "stream",
     "text": [
      "[9, 8, 7, 6, 5, 4, 3, 2, 1]\n"
     ]
    }
   ],
   "source": [
    "c.reverse()\n",
    "print(c)"
   ]
  },
  {
   "cell_type": "code",
   "execution_count": 61,
   "id": "16e06009",
   "metadata": {},
   "outputs": [],
   "source": [
    "c.reverse()"
   ]
  },
  {
   "cell_type": "code",
   "execution_count": 62,
   "id": "fd19d71d",
   "metadata": {},
   "outputs": [
    {
     "data": {
      "text/plain": [
       "[1, 2, 3, 4, 5, 6, 7, 8, 9]"
      ]
     },
     "execution_count": 62,
     "metadata": {},
     "output_type": "execute_result"
    }
   ],
   "source": [
    "c"
   ]
  },
  {
   "cell_type": "code",
   "execution_count": 63,
   "id": "026b79a2",
   "metadata": {},
   "outputs": [
    {
     "name": "stdout",
     "output_type": "stream",
     "text": [
      "[1, 2, 3, 4, 5, 6, 7, 8, 9, 10, 11, 12, 13, 14, 15, 16, 17, 18, 19, 20, 21, 22, 23, 24, 25, 26, 27, 28, 29, 30, 31, 32, 33, 34, 35, 36, 37, 38, 39, 40, 41, 42, 43, 44, 45, 46, 47, 48, 49, 50, 51, 52, 53, 54, 55, 56, 57, 58, 59, 60, 61, 62, 63, 64, 65, 66, 67, 68, 69, 70, 71, 72, 73, 74, 75, 76, 77, 78, 79, 80, 81, 82, 83, 84, 85, 86, 87, 88, 89, 90, 91, 92, 93, 94, 95, 96, 97, 98, 99, 100]\n"
     ]
    }
   ],
   "source": [
    "list1 = list(range(1,101))\n",
    "print(list1)"
   ]
  },
  {
   "cell_type": "code",
   "execution_count": 64,
   "id": "4b0aa0a9",
   "metadata": {},
   "outputs": [
    {
     "data": {
      "text/plain": [
       "int"
      ]
     },
     "execution_count": 64,
     "metadata": {},
     "output_type": "execute_result"
    }
   ],
   "source": [
    "# Type conversion\n",
    "a = 5\n",
    "type(a)"
   ]
  },
  {
   "cell_type": "code",
   "execution_count": 65,
   "id": "73df15ce",
   "metadata": {},
   "outputs": [
    {
     "data": {
      "text/plain": [
       "5.0"
      ]
     },
     "execution_count": 65,
     "metadata": {},
     "output_type": "execute_result"
    }
   ],
   "source": [
    "# how to convert type a int to float\n",
    "a = float(a)\n",
    "a"
   ]
  },
  {
   "cell_type": "code",
   "execution_count": 66,
   "id": "ce73a38e",
   "metadata": {},
   "outputs": [
    {
     "data": {
      "text/plain": [
       "int"
      ]
     },
     "execution_count": 66,
     "metadata": {},
     "output_type": "execute_result"
    }
   ],
   "source": [
    "a = 56\n",
    "type(a)"
   ]
  },
  {
   "cell_type": "code",
   "execution_count": 67,
   "id": "16660f9e",
   "metadata": {},
   "outputs": [
    {
     "data": {
      "text/plain": [
       "str"
      ]
     },
     "execution_count": 67,
     "metadata": {},
     "output_type": "execute_result"
    }
   ],
   "source": [
    "a = str(a)\n",
    "type(a)"
   ]
  },
  {
   "cell_type": "code",
   "execution_count": 68,
   "id": "2dbd46aa",
   "metadata": {},
   "outputs": [
    {
     "data": {
      "text/plain": [
       "566"
      ]
     },
     "execution_count": 68,
     "metadata": {},
     "output_type": "execute_result"
    }
   ],
   "source": [
    "b = int(566)\n",
    "b"
   ]
  },
  {
   "cell_type": "code",
   "execution_count": 69,
   "id": "4895da9e",
   "metadata": {},
   "outputs": [
    {
     "name": "stdout",
     "output_type": "stream",
     "text": [
      "Enter your number: 5\n",
      "Odd Number\n"
     ]
    }
   ],
   "source": [
    "# WAP to find the input number is even or odd\n",
    "a = int(input('Enter your number: '))\n",
    "\n",
    "if a % 2 == 0:\n",
    "    print('Even Number')\n",
    "else:\n",
    "    print('Odd Number')"
   ]
  },
  {
   "cell_type": "code",
   "execution_count": 112,
   "id": "5aa02e2b",
   "metadata": {},
   "outputs": [
    {
     "data": {
      "text/plain": [
       "[1, 2, 3, 4, 5, 6, 7, 8, 9, 89, 11, 12, 3, 44]"
      ]
     },
     "execution_count": 112,
     "metadata": {},
     "output_type": "execute_result"
    }
   ],
   "source": [
    "list1 = [1,2,3,4,5,6,7,8,9,89,11,12,3,44]\n",
    "list1"
   ]
  },
  {
   "cell_type": "code",
   "execution_count": 113,
   "id": "781ad896",
   "metadata": {},
   "outputs": [
    {
     "data": {
      "text/plain": [
       "list"
      ]
     },
     "execution_count": 113,
     "metadata": {},
     "output_type": "execute_result"
    }
   ],
   "source": [
    "type(list1)"
   ]
  },
  {
   "cell_type": "code",
   "execution_count": 114,
   "id": "d24a9756",
   "metadata": {},
   "outputs": [
    {
     "data": {
      "text/plain": [
       "89"
      ]
     },
     "execution_count": 114,
     "metadata": {},
     "output_type": "execute_result"
    }
   ],
   "source": [
    "# indexing\n",
    "list1[9]"
   ]
  },
  {
   "cell_type": "code",
   "execution_count": 115,
   "id": "b2baf6ac",
   "metadata": {},
   "outputs": [],
   "source": [
    "# slicing\n",
    "a = list1[0:9]"
   ]
  },
  {
   "cell_type": "code",
   "execution_count": 116,
   "id": "15f43d00",
   "metadata": {},
   "outputs": [],
   "source": [
    "# adding single number into a list in the last index number\n",
    "list1.append(1)"
   ]
  },
  {
   "cell_type": "code",
   "execution_count": 117,
   "id": "f55d3e9b",
   "metadata": {},
   "outputs": [
    {
     "data": {
      "text/plain": [
       "[1, 2, 3, 4, 5, 6, 7, 8, 9, 89, 11, 12, 3, 44, 1]"
      ]
     },
     "execution_count": 117,
     "metadata": {},
     "output_type": "execute_result"
    }
   ],
   "source": [
    "list1"
   ]
  },
  {
   "cell_type": "code",
   "execution_count": 118,
   "id": "ffea0ccb",
   "metadata": {},
   "outputs": [
    {
     "data": {
      "text/plain": [
       "[1, 2, 3, 4, 5, 6, 7, 8, 9, 89, 11, 12, 3, 44, 1, 2, 3, 5, 7, 8, 9]"
      ]
     },
     "execution_count": 118,
     "metadata": {},
     "output_type": "execute_result"
    }
   ],
   "source": [
    "# adding multiple number into a list 2,3,5,7,8,9\n",
    "\n",
    "list1.extend([2,3,5,7,8,9])\n",
    "list1"
   ]
  },
  {
   "cell_type": "code",
   "execution_count": 119,
   "id": "cdca4ec3",
   "metadata": {},
   "outputs": [
    {
     "data": {
      "text/plain": [
       "9"
      ]
     },
     "execution_count": 119,
     "metadata": {},
     "output_type": "execute_result"
    }
   ],
   "source": [
    "# To find position(index number) of a number in a list\n",
    "list1.index(89)"
   ]
  },
  {
   "cell_type": "code",
   "execution_count": 120,
   "id": "6c050ab1",
   "metadata": {},
   "outputs": [
    {
     "data": {
      "text/plain": [
       "8"
      ]
     },
     "execution_count": 120,
     "metadata": {},
     "output_type": "execute_result"
    }
   ],
   "source": [
    "list1.index(9)"
   ]
  },
  {
   "cell_type": "code",
   "execution_count": 121,
   "id": "83cb7f7b",
   "metadata": {},
   "outputs": [
    {
     "data": {
      "text/plain": [
       "[1, 2, 3, 4, 5, 6, 7, 8, 9, 89, 11, 12, 3, 44, 1, 2, 3, 5, 7, 8, 9]"
      ]
     },
     "execution_count": 121,
     "metadata": {},
     "output_type": "execute_result"
    }
   ],
   "source": [
    "list1"
   ]
  },
  {
   "cell_type": "code",
   "execution_count": 122,
   "id": "447f5907",
   "metadata": {},
   "outputs": [
    {
     "data": {
      "text/plain": [
       "[1, 2, 3, 4, 5, 6, 7, 8, 10, 9, 89, 11, 12, 3, 44, 1, 2, 3, 5, 7, 8, 9]"
      ]
     },
     "execution_count": 122,
     "metadata": {},
     "output_type": "execute_result"
    }
   ],
   "source": [
    "list1.insert(8,10)\n",
    "list1"
   ]
  },
  {
   "cell_type": "code",
   "execution_count": 123,
   "id": "9320c06e",
   "metadata": {},
   "outputs": [
    {
     "data": {
      "text/plain": [
       "[100, 1, 2, 3, 4, 5, 6, 7, 8, 10, 9, 89, 11, 12, 3, 44, 1, 2, 3, 5, 7, 8, 9]"
      ]
     },
     "execution_count": 123,
     "metadata": {},
     "output_type": "execute_result"
    }
   ],
   "source": [
    "list1.insert(0,100)\n",
    "list1"
   ]
  },
  {
   "cell_type": "code",
   "execution_count": 124,
   "id": "1245782d",
   "metadata": {},
   "outputs": [
    {
     "data": {
      "text/plain": [
       "[100, 1, 2, 3, 4, 5, 6, 7, 8, 10, 9, 89, 11, 12, 3, 44, 1, 2, 3, 5, 7, 8]"
      ]
     },
     "execution_count": 124,
     "metadata": {},
     "output_type": "execute_result"
    }
   ],
   "source": [
    "# removing number from a list\n",
    "# pop is used to delete last number from the list\n",
    "list1.pop()\n",
    "list1"
   ]
  },
  {
   "cell_type": "code",
   "execution_count": 125,
   "id": "dd93c956",
   "metadata": {},
   "outputs": [
    {
     "data": {
      "text/plain": [
       "[100, 1, 2, 3, 4, 5, 6, 7, 8, 10, 9, 89, 11, 12, 3, 44, 1, 2, 3, 5, 7, 8]"
      ]
     },
     "execution_count": 125,
     "metadata": {},
     "output_type": "execute_result"
    }
   ],
   "source": [
    "list1"
   ]
  },
  {
   "cell_type": "code",
   "execution_count": 126,
   "id": "f4d6ff99",
   "metadata": {},
   "outputs": [
    {
     "data": {
      "text/plain": [
       "11"
      ]
     },
     "execution_count": 126,
     "metadata": {},
     "output_type": "execute_result"
    }
   ],
   "source": [
    "list1.index(89)"
   ]
  },
  {
   "cell_type": "code",
   "execution_count": 127,
   "id": "0865aa44",
   "metadata": {},
   "outputs": [
    {
     "data": {
      "text/plain": [
       "[100, 1, 2, 3, 4, 5, 6, 7, 8, 10, 89, 11, 12, 3, 44, 1, 2, 3, 5, 7, 8]"
      ]
     },
     "execution_count": 127,
     "metadata": {},
     "output_type": "execute_result"
    }
   ],
   "source": [
    "# remove the index value\n",
    "list1.pop(10)\n",
    "list1"
   ]
  },
  {
   "cell_type": "code",
   "execution_count": 128,
   "id": "7d1623a4",
   "metadata": {},
   "outputs": [
    {
     "data": {
      "text/plain": [
       "[1, 2, 3, 4, 5, 6, 7, 8, 10, 89, 11, 12, 3, 44, 1, 2, 3, 5, 7, 8]"
      ]
     },
     "execution_count": 128,
     "metadata": {},
     "output_type": "execute_result"
    }
   ],
   "source": [
    "list1.pop(0)\n",
    "list1"
   ]
  },
  {
   "cell_type": "code",
   "execution_count": 129,
   "id": "50cceb58",
   "metadata": {},
   "outputs": [
    {
     "data": {
      "text/plain": [
       "[1, 2, 3, 4, 5, 6, 7, 8, 10, 89, 11, 12, 3, 1, 2, 3, 5, 7, 8]"
      ]
     },
     "execution_count": 129,
     "metadata": {},
     "output_type": "execute_result"
    }
   ],
   "source": [
    "# removing a paticular number\n",
    "list1.remove(44)\n",
    "list1"
   ]
  },
  {
   "cell_type": "code",
   "execution_count": 130,
   "id": "cfc7d6ae",
   "metadata": {},
   "outputs": [
    {
     "data": {
      "text/plain": [
       "2"
      ]
     },
     "execution_count": 130,
     "metadata": {},
     "output_type": "execute_result"
    }
   ],
   "source": [
    "# count is used for number of time a number present in the list\n",
    "list1.count(8)"
   ]
  },
  {
   "cell_type": "code",
   "execution_count": 131,
   "id": "d5ad5b2b",
   "metadata": {},
   "outputs": [
    {
     "data": {
      "text/plain": [
       "[1, 2, 3, 4, 5, 6, 7, 8, 10, 89, 11, 12, 3, 1, 2, 3, 5, 7, 8]"
      ]
     },
     "execution_count": 131,
     "metadata": {},
     "output_type": "execute_result"
    }
   ],
   "source": [
    "list1"
   ]
  },
  {
   "cell_type": "code",
   "execution_count": 132,
   "id": "dd413fcc",
   "metadata": {},
   "outputs": [],
   "source": [
    "def remove_position(lists,indexes):\n",
    "    value = lists[indexes]\n",
    "    \n",
    "    return lists.remove(value)"
   ]
  },
  {
   "cell_type": "code",
   "execution_count": 133,
   "id": "ab9365c6",
   "metadata": {},
   "outputs": [
    {
     "data": {
      "text/plain": [
       "[1, 2, 3, 4, 5, 6, 7, 8, 10, 89, 11, 12, 3, 1, 2, 3, 5, 7, 8]"
      ]
     },
     "execution_count": 133,
     "metadata": {},
     "output_type": "execute_result"
    }
   ],
   "source": [
    "list1"
   ]
  },
  {
   "cell_type": "code",
   "execution_count": 134,
   "id": "05dfc8e4",
   "metadata": {},
   "outputs": [
    {
     "data": {
      "text/plain": [
       "[9, 6, 'hi', 9.8, (6+6j)]"
      ]
     },
     "execution_count": 134,
     "metadata": {},
     "output_type": "execute_result"
    }
   ],
   "source": [
    "# Clear\n",
    "list2 = [9,6,'hi',9.8,6+6j]\n",
    "list2"
   ]
  },
  {
   "cell_type": "code",
   "execution_count": 135,
   "id": "aa679330",
   "metadata": {},
   "outputs": [],
   "source": [
    "list2.clear()"
   ]
  },
  {
   "cell_type": "code",
   "execution_count": 136,
   "id": "270256eb",
   "metadata": {},
   "outputs": [
    {
     "data": {
      "text/plain": [
       "[]"
      ]
     },
     "execution_count": 136,
     "metadata": {},
     "output_type": "execute_result"
    }
   ],
   "source": [
    "list2"
   ]
  },
  {
   "cell_type": "code",
   "execution_count": 137,
   "id": "4b6755c6",
   "metadata": {},
   "outputs": [
    {
     "data": {
      "text/plain": [
       "[9, 6, 'hi', 9.8, (6+6j)]"
      ]
     },
     "execution_count": 137,
     "metadata": {},
     "output_type": "execute_result"
    }
   ],
   "source": [
    "# copy\n",
    "list2 = [9,6,'hi',9.8,6+6j]\n",
    "list2"
   ]
  },
  {
   "cell_type": "code",
   "execution_count": 138,
   "id": "d17cd02b",
   "metadata": {},
   "outputs": [
    {
     "data": {
      "text/plain": [
       "[9, 6, 'hi', 9.8, (6+6j)]"
      ]
     },
     "execution_count": 138,
     "metadata": {},
     "output_type": "execute_result"
    }
   ],
   "source": [
    "list3 = list2.copy()\n",
    "list3"
   ]
  },
  {
   "cell_type": "code",
   "execution_count": 139,
   "id": "06ddb8da",
   "metadata": {},
   "outputs": [
    {
     "data": {
      "text/plain": [
       "[1, 2, 3, 4, 5, 6, 7, 8, 10, 89, 11, 12, 3, 1, 2, 3, 5, 7, 8]"
      ]
     },
     "execution_count": 139,
     "metadata": {},
     "output_type": "execute_result"
    }
   ],
   "source": [
    "list1"
   ]
  },
  {
   "cell_type": "code",
   "execution_count": 140,
   "id": "59d18e54",
   "metadata": {},
   "outputs": [
    {
     "data": {
      "text/plain": [
       "[8, 7, 5, 3, 2, 1, 3, 12, 11, 89, 10, 8, 7, 6, 5, 4, 3, 2, 1]"
      ]
     },
     "execution_count": 140,
     "metadata": {},
     "output_type": "execute_result"
    }
   ],
   "source": [
    "# reverse\n",
    "list1.reverse()\n",
    "list1"
   ]
  },
  {
   "cell_type": "code",
   "execution_count": 141,
   "id": "d966d26c",
   "metadata": {},
   "outputs": [
    {
     "data": {
      "text/plain": [
       "[1, 1, 2, 2, 3, 3, 3, 4, 5, 5, 6, 7, 7, 8, 8, 10, 11, 12, 89]"
      ]
     },
     "execution_count": 141,
     "metadata": {},
     "output_type": "execute_result"
    }
   ],
   "source": [
    "# sort : is used for ascending or descending\n",
    "#ascending\n",
    "list1.sort() # list1.sort(reverse=False)\n",
    "list1"
   ]
  },
  {
   "cell_type": "code",
   "execution_count": 142,
   "id": "4a5664ad",
   "metadata": {},
   "outputs": [
    {
     "data": {
      "text/plain": [
       "[89, 12, 11, 10, 8, 8, 7, 7, 6, 5, 5, 4, 3, 3, 3, 2, 2, 1, 1]"
      ]
     },
     "execution_count": 142,
     "metadata": {},
     "output_type": "execute_result"
    }
   ],
   "source": [
    "#descending\n",
    "list1.sort(reverse=True)\n",
    "list1"
   ]
  },
  {
   "cell_type": "code",
   "execution_count": 143,
   "id": "7f0fff4c",
   "metadata": {},
   "outputs": [
    {
     "data": {
      "text/plain": [
       "187"
      ]
     },
     "execution_count": 143,
     "metadata": {},
     "output_type": "execute_result"
    }
   ],
   "source": [
    "sum(list1)"
   ]
  },
  {
   "cell_type": "code",
   "execution_count": 144,
   "id": "8fc8ccb2",
   "metadata": {},
   "outputs": [
    {
     "data": {
      "text/plain": [
       "89"
      ]
     },
     "execution_count": 144,
     "metadata": {},
     "output_type": "execute_result"
    }
   ],
   "source": [
    "max(list1)"
   ]
  },
  {
   "cell_type": "code",
   "execution_count": 145,
   "id": "721d8f04",
   "metadata": {},
   "outputs": [
    {
     "data": {
      "text/plain": [
       "1"
      ]
     },
     "execution_count": 145,
     "metadata": {},
     "output_type": "execute_result"
    }
   ],
   "source": [
    "min(list1)"
   ]
  },
  {
   "cell_type": "code",
   "execution_count": 146,
   "id": "b6fc9fd0",
   "metadata": {},
   "outputs": [
    {
     "data": {
      "text/plain": [
       "19"
      ]
     },
     "execution_count": 146,
     "metadata": {},
     "output_type": "execute_result"
    }
   ],
   "source": [
    "# len is used to count number of element present in a list\n",
    "len(list1)"
   ]
  },
  {
   "cell_type": "markdown",
   "id": "5d499eb0",
   "metadata": {},
   "source": [
    "## Mutable : insert or remove an element from datatype\n",
    "- Numeric Datatype = Immutable\n",
    "- String Datatype = Immutable\n",
    "- List = Mutable"
   ]
  },
  {
   "cell_type": "code",
   "execution_count": 24,
   "id": "dcf0b5f9",
   "metadata": {},
   "outputs": [
    {
     "data": {
      "text/plain": [
       "['In',\n",
       " 'Out',\n",
       " '_',\n",
       " '_1',\n",
       " '_13',\n",
       " '_14',\n",
       " '_15',\n",
       " '_17',\n",
       " '_19',\n",
       " '_3',\n",
       " '_4',\n",
       " '_5',\n",
       " '_6',\n",
       " '_7',\n",
       " '__',\n",
       " '___',\n",
       " '__builtin__',\n",
       " '__builtins__',\n",
       " '__doc__',\n",
       " '__loader__',\n",
       " '__name__',\n",
       " '__package__',\n",
       " '__spec__',\n",
       " '_dh',\n",
       " '_i',\n",
       " '_i1',\n",
       " '_i10',\n",
       " '_i11',\n",
       " '_i12',\n",
       " '_i13',\n",
       " '_i14',\n",
       " '_i15',\n",
       " '_i16',\n",
       " '_i17',\n",
       " '_i18',\n",
       " '_i19',\n",
       " '_i2',\n",
       " '_i20',\n",
       " '_i21',\n",
       " '_i22',\n",
       " '_i23',\n",
       " '_i24',\n",
       " '_i3',\n",
       " '_i4',\n",
       " '_i5',\n",
       " '_i6',\n",
       " '_i7',\n",
       " '_i8',\n",
       " '_i9',\n",
       " '_ih',\n",
       " '_ii',\n",
       " '_iii',\n",
       " '_oh',\n",
       " 'a',\n",
       " 'c',\n",
       " 'exit',\n",
       " 'get_ipython',\n",
       " 'quit']"
      ]
     },
     "execution_count": 24,
     "metadata": {},
     "output_type": "execute_result"
    }
   ],
   "source": [
    "dir()"
   ]
  },
  {
   "cell_type": "code",
   "execution_count": 147,
   "id": "7faa041d",
   "metadata": {},
   "outputs": [
    {
     "data": {
      "text/plain": [
       "2752807266736"
      ]
     },
     "execution_count": 147,
     "metadata": {},
     "output_type": "execute_result"
    }
   ],
   "source": [
    "x = 5\n",
    "id(x)"
   ]
  },
  {
   "cell_type": "code",
   "execution_count": 148,
   "id": "b40b8e93",
   "metadata": {},
   "outputs": [
    {
     "data": {
      "text/plain": [
       "2752807266768"
      ]
     },
     "execution_count": 148,
     "metadata": {},
     "output_type": "execute_result"
    }
   ],
   "source": [
    "x = 6\n",
    "id(x)"
   ]
  },
  {
   "cell_type": "code",
   "execution_count": 149,
   "id": "0ece8bdb",
   "metadata": {},
   "outputs": [
    {
     "data": {
      "text/plain": [
       "2752807266800"
      ]
     },
     "execution_count": 149,
     "metadata": {},
     "output_type": "execute_result"
    }
   ],
   "source": [
    "x = 7\n",
    "id(x)"
   ]
  },
  {
   "cell_type": "code",
   "execution_count": 150,
   "id": "f5582784",
   "metadata": {},
   "outputs": [
    {
     "data": {
      "text/plain": [
       "[89, 12, 11, 10, 8, 8, 7, 7, 6, 5, 5, 4, 3, 3, 3, 2, 2, 1, 1]"
      ]
     },
     "execution_count": 150,
     "metadata": {},
     "output_type": "execute_result"
    }
   ],
   "source": [
    "list1"
   ]
  },
  {
   "cell_type": "code",
   "execution_count": 151,
   "id": "f8d90f6f",
   "metadata": {},
   "outputs": [
    {
     "data": {
      "text/plain": [
       "2752912200512"
      ]
     },
     "execution_count": 151,
     "metadata": {},
     "output_type": "execute_result"
    }
   ],
   "source": [
    "id(list1)"
   ]
  },
  {
   "cell_type": "code",
   "execution_count": 152,
   "id": "cb062c28",
   "metadata": {},
   "outputs": [
    {
     "data": {
      "text/plain": [
       "[89, 12, 11, 10, 8, 8, 7, 7, 6, 5, 5, 4, 3, 3, 3, 2, 2, 1, 1, 0]"
      ]
     },
     "execution_count": 152,
     "metadata": {},
     "output_type": "execute_result"
    }
   ],
   "source": [
    "list1.append(0)\n",
    "list1"
   ]
  },
  {
   "cell_type": "code",
   "execution_count": 153,
   "id": "6da3b048",
   "metadata": {},
   "outputs": [
    {
     "data": {
      "text/plain": [
       "2752912200512"
      ]
     },
     "execution_count": 153,
     "metadata": {},
     "output_type": "execute_result"
    }
   ],
   "source": [
    "id(list1)"
   ]
  },
  {
   "cell_type": "code",
   "execution_count": 154,
   "id": "8964353c",
   "metadata": {},
   "outputs": [
    {
     "data": {
      "text/plain": [
       "list"
      ]
     },
     "execution_count": 154,
     "metadata": {},
     "output_type": "execute_result"
    }
   ],
   "source": [
    "list4 = [1]\n",
    "type(list4)\n"
   ]
  },
  {
   "cell_type": "markdown",
   "id": "f8f2f1c9",
   "metadata": {},
   "source": [
    "# Tuple"
   ]
  },
  {
   "cell_type": "code",
   "execution_count": 155,
   "id": "8b332d94",
   "metadata": {},
   "outputs": [
    {
     "data": {
      "text/plain": [
       "(1, 2, 3, 4, 1)"
      ]
     },
     "execution_count": 155,
     "metadata": {},
     "output_type": "execute_result"
    }
   ],
   "source": [
    "tup = (1,2,3,4,1)\n",
    "tup"
   ]
  },
  {
   "cell_type": "code",
   "execution_count": 156,
   "id": "e0f3a032",
   "metadata": {},
   "outputs": [
    {
     "data": {
      "text/plain": [
       "2"
      ]
     },
     "execution_count": 156,
     "metadata": {},
     "output_type": "execute_result"
    }
   ],
   "source": [
    "tup.count(1)"
   ]
  },
  {
   "cell_type": "code",
   "execution_count": 157,
   "id": "f148e113",
   "metadata": {},
   "outputs": [
    {
     "data": {
      "text/plain": [
       "2"
      ]
     },
     "execution_count": 157,
     "metadata": {},
     "output_type": "execute_result"
    }
   ],
   "source": [
    "tup.index(3)"
   ]
  },
  {
   "cell_type": "code",
   "execution_count": 158,
   "id": "f1170f97",
   "metadata": {},
   "outputs": [
    {
     "data": {
      "text/plain": [
       "tuple"
      ]
     },
     "execution_count": 158,
     "metadata": {},
     "output_type": "execute_result"
    }
   ],
   "source": [
    "type(tup)"
   ]
  },
  {
   "cell_type": "code",
   "execution_count": 159,
   "id": "2d626601",
   "metadata": {},
   "outputs": [
    {
     "data": {
      "text/plain": [
       "tuple"
      ]
     },
     "execution_count": 159,
     "metadata": {},
     "output_type": "execute_result"
    }
   ],
   "source": [
    "tup1 = (8.9,)\n",
    "type(tup1)"
   ]
  },
  {
   "cell_type": "code",
   "execution_count": 160,
   "id": "50ab5470",
   "metadata": {},
   "outputs": [
    {
     "data": {
      "text/plain": [
       "(1,)"
      ]
     },
     "execution_count": 160,
     "metadata": {},
     "output_type": "execute_result"
    }
   ],
   "source": [
    "tup1 = tuple((1,))\n",
    "tup1\n"
   ]
  },
  {
   "cell_type": "code",
   "execution_count": 161,
   "id": "8eaa108b",
   "metadata": {},
   "outputs": [
    {
     "data": {
      "text/plain": [
       "tuple"
      ]
     },
     "execution_count": 161,
     "metadata": {},
     "output_type": "execute_result"
    }
   ],
   "source": [
    "type(tup1)"
   ]
  },
  {
   "cell_type": "code",
   "execution_count": 162,
   "id": "df1d878b",
   "metadata": {},
   "outputs": [
    {
     "data": {
      "text/plain": [
       "tuple"
      ]
     },
     "execution_count": 162,
     "metadata": {},
     "output_type": "execute_result"
    }
   ],
   "source": [
    "tup2 = (1,2,3,4,5)\n",
    "type(tup2)"
   ]
  },
  {
   "cell_type": "code",
   "execution_count": 163,
   "id": "3c629743",
   "metadata": {},
   "outputs": [
    {
     "data": {
      "text/plain": [
       "2"
      ]
     },
     "execution_count": 163,
     "metadata": {},
     "output_type": "execute_result"
    }
   ],
   "source": [
    "# index\n",
    "tup2[1]"
   ]
  },
  {
   "cell_type": "code",
   "execution_count": 164,
   "id": "48221688",
   "metadata": {},
   "outputs": [
    {
     "data": {
      "text/plain": [
       "(1, 2, 3)"
      ]
     },
     "execution_count": 164,
     "metadata": {},
     "output_type": "execute_result"
    }
   ],
   "source": [
    "# slicing\n",
    "tup2[0:3]"
   ]
  },
  {
   "cell_type": "code",
   "execution_count": 165,
   "id": "19e89147",
   "metadata": {},
   "outputs": [],
   "source": [
    "tup3 = (1,2,0,3,[1,2,3,4],(1,2,3,4,5))\n",
    "tup3[4].append(8)"
   ]
  },
  {
   "cell_type": "code",
   "execution_count": 166,
   "id": "a8fa81bb",
   "metadata": {},
   "outputs": [
    {
     "data": {
      "text/plain": [
       "(1, 2, 0, 3, [1, 2, 3, 4, 8], (1, 2, 3, 4, 5))"
      ]
     },
     "execution_count": 166,
     "metadata": {},
     "output_type": "execute_result"
    }
   ],
   "source": [
    "tup3"
   ]
  },
  {
   "cell_type": "code",
   "execution_count": 167,
   "id": "1b394886",
   "metadata": {},
   "outputs": [
    {
     "data": {
      "text/plain": [
       "tuple"
      ]
     },
     "execution_count": 167,
     "metadata": {},
     "output_type": "execute_result"
    }
   ],
   "source": [
    "type(tup)"
   ]
  },
  {
   "cell_type": "code",
   "execution_count": 168,
   "id": "b3dd1abf",
   "metadata": {},
   "outputs": [
    {
     "data": {
      "text/plain": [
       "(1, 2, 3, 4, 1)"
      ]
     },
     "execution_count": 168,
     "metadata": {},
     "output_type": "execute_result"
    }
   ],
   "source": [
    "tup"
   ]
  },
  {
   "cell_type": "code",
   "execution_count": 169,
   "id": "6598b27a",
   "metadata": {},
   "outputs": [
    {
     "data": {
      "text/plain": [
       "[1, 1, 2, 3, 4]"
      ]
     },
     "execution_count": 169,
     "metadata": {},
     "output_type": "execute_result"
    }
   ],
   "source": [
    "sorted(tup)"
   ]
  },
  {
   "cell_type": "markdown",
   "id": "305fc626",
   "metadata": {},
   "source": [
    "# List Vs String"
   ]
  },
  {
   "cell_type": "code",
   "execution_count": 25,
   "id": "a90a2456",
   "metadata": {},
   "outputs": [
    {
     "name": "stdout",
     "output_type": "stream",
     "text": [
      "Rohit Sharma is Captain of India\n"
     ]
    }
   ],
   "source": [
    "cricket = 'Rohit Sharma is Captain of India'\n",
    "print(cricket)"
   ]
  },
  {
   "cell_type": "code",
   "execution_count": 26,
   "id": "1384e29d",
   "metadata": {},
   "outputs": [
    {
     "data": {
      "text/plain": [
       "32"
      ]
     },
     "execution_count": 26,
     "metadata": {},
     "output_type": "execute_result"
    }
   ],
   "source": [
    "len(cricket)"
   ]
  },
  {
   "cell_type": "code",
   "execution_count": 27,
   "id": "cb2516dc",
   "metadata": {},
   "outputs": [
    {
     "data": {
      "text/plain": [
       "'Rohit sharma is captain of india'"
      ]
     },
     "execution_count": 27,
     "metadata": {},
     "output_type": "execute_result"
    }
   ],
   "source": [
    "# capitalize : Return a capitalized version of the string.\n",
    "cricket.capitalize()"
   ]
  },
  {
   "cell_type": "code",
   "execution_count": 28,
   "id": "a468d494",
   "metadata": {},
   "outputs": [
    {
     "data": {
      "text/plain": [
       "' Rohit Sharma is Captain of India'"
      ]
     },
     "execution_count": 28,
     "metadata": {},
     "output_type": "execute_result"
    }
   ],
   "source": [
    "# center : Return a centered string of length width.\n",
    "# center input should be greater than length of string\n",
    "cricket.center(33)"
   ]
  },
  {
   "cell_type": "code",
   "execution_count": 29,
   "id": "a8c3437c",
   "metadata": {},
   "outputs": [
    {
     "data": {
      "text/plain": [
       "' Rohit Sharma is Captain of India '"
      ]
     },
     "execution_count": 29,
     "metadata": {},
     "output_type": "execute_result"
    }
   ],
   "source": [
    "cricket.center(34)"
   ]
  },
  {
   "cell_type": "code",
   "execution_count": 30,
   "id": "e3d8acd5",
   "metadata": {},
   "outputs": [
    {
     "data": {
      "text/plain": [
       "'  Rohit Sharma is Captain of India '"
      ]
     },
     "execution_count": 30,
     "metadata": {},
     "output_type": "execute_result"
    }
   ],
   "source": [
    "cricket.center(35)"
   ]
  },
  {
   "cell_type": "code",
   "execution_count": 31,
   "id": "e4191497",
   "metadata": {},
   "outputs": [
    {
     "data": {
      "text/plain": [
       "'  Rohit Sharma is Captain of India  '"
      ]
     },
     "execution_count": 31,
     "metadata": {},
     "output_type": "execute_result"
    }
   ],
   "source": [
    "cricket.center(36)"
   ]
  },
  {
   "cell_type": "code",
   "execution_count": 174,
   "id": "6f1d1946",
   "metadata": {},
   "outputs": [
    {
     "data": {
      "text/plain": [
       "'rohit sharma is captain of india'"
      ]
     },
     "execution_count": 174,
     "metadata": {},
     "output_type": "execute_result"
    }
   ],
   "source": [
    "# casefold : Return a version of the string suitable for caseless comparisons.\n",
    "cricket.casefold()"
   ]
  },
  {
   "cell_type": "code",
   "execution_count": 175,
   "id": "bc1fec75",
   "metadata": {},
   "outputs": [],
   "source": [
    "x = 'Nihar'\n",
    "y = 'Nihar'\n",
    "z = 'nihaR'"
   ]
  },
  {
   "cell_type": "code",
   "execution_count": 176,
   "id": "1326bf9c",
   "metadata": {},
   "outputs": [
    {
     "name": "stdout",
     "output_type": "stream",
     "text": [
      "Nihar\n",
      "Nihar\n",
      "nihaR\n"
     ]
    }
   ],
   "source": [
    "print(x,y,z, sep='\\n')"
   ]
  },
  {
   "cell_type": "code",
   "execution_count": 177,
   "id": "2a2807e2",
   "metadata": {},
   "outputs": [
    {
     "data": {
      "text/plain": [
       "True"
      ]
     },
     "execution_count": 177,
     "metadata": {},
     "output_type": "execute_result"
    }
   ],
   "source": [
    "x == y"
   ]
  },
  {
   "cell_type": "code",
   "execution_count": 178,
   "id": "a3e1ad52",
   "metadata": {},
   "outputs": [
    {
     "data": {
      "text/plain": [
       "False"
      ]
     },
     "execution_count": 178,
     "metadata": {},
     "output_type": "execute_result"
    }
   ],
   "source": [
    "x == z"
   ]
  },
  {
   "cell_type": "code",
   "execution_count": 179,
   "id": "4cea1938",
   "metadata": {},
   "outputs": [
    {
     "data": {
      "text/plain": [
       "'nihar'"
      ]
     },
     "execution_count": 179,
     "metadata": {},
     "output_type": "execute_result"
    }
   ],
   "source": [
    "x.casefold()"
   ]
  },
  {
   "cell_type": "code",
   "execution_count": 180,
   "id": "aa5bfdd4",
   "metadata": {},
   "outputs": [
    {
     "data": {
      "text/plain": [
       "'nihar'"
      ]
     },
     "execution_count": 180,
     "metadata": {},
     "output_type": "execute_result"
    }
   ],
   "source": [
    "z.casefold()"
   ]
  },
  {
   "cell_type": "code",
   "execution_count": 181,
   "id": "7bf93d5a",
   "metadata": {},
   "outputs": [
    {
     "data": {
      "text/plain": [
       "True"
      ]
     },
     "execution_count": 181,
     "metadata": {},
     "output_type": "execute_result"
    }
   ],
   "source": [
    "x.casefold() == z.casefold()"
   ]
  },
  {
   "cell_type": "code",
   "execution_count": 182,
   "id": "fce5253e",
   "metadata": {},
   "outputs": [
    {
     "data": {
      "text/plain": [
       "'Rohit Sharma is Captain of India'"
      ]
     },
     "execution_count": 182,
     "metadata": {},
     "output_type": "execute_result"
    }
   ],
   "source": [
    "cricket"
   ]
  },
  {
   "cell_type": "code",
   "execution_count": 183,
   "id": "8189c0e9",
   "metadata": {},
   "outputs": [
    {
     "data": {
      "text/plain": [
       "32"
      ]
     },
     "execution_count": 183,
     "metadata": {},
     "output_type": "execute_result"
    }
   ],
   "source": [
    "len(cricket)"
   ]
  },
  {
   "cell_type": "code",
   "execution_count": 184,
   "id": "1ef37239",
   "metadata": {},
   "outputs": [
    {
     "data": {
      "text/plain": [
       "5"
      ]
     },
     "execution_count": 184,
     "metadata": {},
     "output_type": "execute_result"
    }
   ],
   "source": [
    "# count: Return the number of non-overlapping occurrences of substring sub in string S[start:end].  Optional arguments start and end are interpreted as in slice notation.\n",
    "cricket.count('a')"
   ]
  },
  {
   "cell_type": "code",
   "execution_count": 185,
   "id": "6facb017",
   "metadata": {},
   "outputs": [
    {
     "data": {
      "text/plain": [
       "b'Rohit Sharma is Captain of India'"
      ]
     },
     "execution_count": 185,
     "metadata": {},
     "output_type": "execute_result"
    }
   ],
   "source": [
    "cricket.encode(encoding='utf-8')"
   ]
  },
  {
   "cell_type": "code",
   "execution_count": 186,
   "id": "b8a9a4b3",
   "metadata": {},
   "outputs": [
    {
     "data": {
      "text/plain": [
       "True"
      ]
     },
     "execution_count": 186,
     "metadata": {},
     "output_type": "execute_result"
    }
   ],
   "source": [
    "cricket.endswith('India')"
   ]
  },
  {
   "cell_type": "code",
   "execution_count": 187,
   "id": "ef58ea13",
   "metadata": {},
   "outputs": [
    {
     "data": {
      "text/plain": [
       "True"
      ]
     },
     "execution_count": 187,
     "metadata": {},
     "output_type": "execute_result"
    }
   ],
   "source": [
    "cricket.startswith('Rohit')"
   ]
  },
  {
   "cell_type": "code",
   "execution_count": 188,
   "id": "57dc7884",
   "metadata": {},
   "outputs": [
    {
     "data": {
      "text/plain": [
       "False"
      ]
     },
     "execution_count": 188,
     "metadata": {},
     "output_type": "execute_result"
    }
   ],
   "source": [
    "cricket.endswith('is')"
   ]
  },
  {
   "cell_type": "code",
   "execution_count": 189,
   "id": "0021703c",
   "metadata": {},
   "outputs": [
    {
     "data": {
      "text/plain": [
       "'Rohit Sharma is Captain of India'"
      ]
     },
     "execution_count": 189,
     "metadata": {},
     "output_type": "execute_result"
    }
   ],
   "source": [
    "cricket"
   ]
  },
  {
   "cell_type": "code",
   "execution_count": 190,
   "id": "5b689789",
   "metadata": {},
   "outputs": [
    {
     "data": {
      "text/plain": [
       "6"
      ]
     },
     "execution_count": 190,
     "metadata": {},
     "output_type": "execute_result"
    }
   ],
   "source": [
    "# find: Return the lowest index in S where substring sub is found,such that sub is contained within S[start:end].  Optionalarguments start and end are interpreted as in slice notation.\n",
    "cricket.find('Sharma is Captain')"
   ]
  },
  {
   "cell_type": "code",
   "execution_count": 191,
   "id": "90630eb2",
   "metadata": {},
   "outputs": [
    {
     "data": {
      "text/plain": [
       "12"
      ]
     },
     "execution_count": 191,
     "metadata": {},
     "output_type": "execute_result"
    }
   ],
   "source": [
    "cricket.find(' is Captain')"
   ]
  },
  {
   "cell_type": "markdown",
   "id": "ce3c6d84",
   "metadata": {},
   "source": [
    "# Explore"
   ]
  },
  {
   "cell_type": "code",
   "execution_count": 192,
   "id": "ba689422",
   "metadata": {},
   "outputs": [
    {
     "data": {
      "text/plain": [
       "'Rohit Sharma is Captain of India'"
      ]
     },
     "execution_count": 192,
     "metadata": {},
     "output_type": "execute_result"
    }
   ],
   "source": [
    "\n",
    "cricket.expandtabs(tabsize=0)"
   ]
  },
  {
   "cell_type": "code",
   "execution_count": 193,
   "id": "5706c693",
   "metadata": {},
   "outputs": [],
   "source": [
    "import sys"
   ]
  },
  {
   "cell_type": "code",
   "execution_count": 194,
   "id": "4e2fd360",
   "metadata": {},
   "outputs": [
    {
     "data": {
      "text/plain": [
       "81"
      ]
     },
     "execution_count": 194,
     "metadata": {},
     "output_type": "execute_result"
    }
   ],
   "source": [
    "sys.getsizeof(cricket)"
   ]
  },
  {
   "cell_type": "code",
   "execution_count": 195,
   "id": "bc3db7b9",
   "metadata": {},
   "outputs": [
    {
     "name": "stdout",
     "output_type": "stream",
     "text": [
      "This is declair by BCCI that Rohit Sharma is Captain of India\n"
     ]
    }
   ],
   "source": [
    "print('This is declair by BCCI that {}'.format(cricket))"
   ]
  },
  {
   "cell_type": "code",
   "execution_count": 196,
   "id": "82a5c919",
   "metadata": {},
   "outputs": [],
   "source": [
    "bcci = 'This is declair by BCCI that'"
   ]
  },
  {
   "cell_type": "code",
   "execution_count": 197,
   "id": "d3229bd8",
   "metadata": {},
   "outputs": [
    {
     "data": {
      "text/plain": [
       "'This is declair by BCCI that Rohit Sharma is Captain of India'"
      ]
     },
     "execution_count": 197,
     "metadata": {},
     "output_type": "execute_result"
    }
   ],
   "source": [
    "# Concatenation\n",
    "bcci +' '+cricket"
   ]
  },
  {
   "cell_type": "code",
   "execution_count": 198,
   "id": "2cf5dbf7",
   "metadata": {},
   "outputs": [
    {
     "data": {
      "text/plain": [
       "'Rohit Sharma is Captain of India'"
      ]
     },
     "execution_count": 198,
     "metadata": {},
     "output_type": "execute_result"
    }
   ],
   "source": [
    "cricket"
   ]
  },
  {
   "cell_type": "code",
   "execution_count": 199,
   "id": "38a47810",
   "metadata": {},
   "outputs": [
    {
     "data": {
      "text/plain": [
       "['Rohit', 'Sharma', 'is', 'Captain', 'of', 'India']"
      ]
     },
     "execution_count": 199,
     "metadata": {},
     "output_type": "execute_result"
    }
   ],
   "source": [
    "# split: is used to convert \n",
    "cricket.split(' ')"
   ]
  },
  {
   "cell_type": "code",
   "execution_count": 200,
   "id": "4887026a",
   "metadata": {},
   "outputs": [
    {
     "data": {
      "text/plain": [
       "'         Rohit Sharma is Captain of India         '"
      ]
     },
     "execution_count": 200,
     "metadata": {},
     "output_type": "execute_result"
    }
   ],
   "source": [
    "cricket = cricket.center(50)\n",
    "cricket"
   ]
  },
  {
   "cell_type": "code",
   "execution_count": 201,
   "id": "01384294",
   "metadata": {},
   "outputs": [
    {
     "data": {
      "text/plain": [
       "'Rohit Sharma is Captain of India'"
      ]
     },
     "execution_count": 201,
     "metadata": {},
     "output_type": "execute_result"
    }
   ],
   "source": [
    "cricket.strip()"
   ]
  },
  {
   "cell_type": "code",
   "execution_count": 202,
   "id": "4db34714",
   "metadata": {},
   "outputs": [
    {
     "data": {
      "text/plain": [
       "'         Rohit Sharma is Captain of India'"
      ]
     },
     "execution_count": 202,
     "metadata": {},
     "output_type": "execute_result"
    }
   ],
   "source": [
    "cricket.rstrip()"
   ]
  },
  {
   "cell_type": "code",
   "execution_count": 203,
   "id": "acba8126",
   "metadata": {},
   "outputs": [
    {
     "data": {
      "text/plain": [
       "'Rohit Sharma is Captain of India         '"
      ]
     },
     "execution_count": 203,
     "metadata": {},
     "output_type": "execute_result"
    }
   ],
   "source": [
    "cricket.lstrip()"
   ]
  },
  {
   "cell_type": "code",
   "execution_count": 204,
   "id": "7a8d9663",
   "metadata": {},
   "outputs": [
    {
     "data": {
      "text/plain": [
       "['Rohit', 'Sharma', 'is', 'Captain', 'of', 'India']"
      ]
     },
     "execution_count": 204,
     "metadata": {},
     "output_type": "execute_result"
    }
   ],
   "source": [
    "cricket.split()"
   ]
  },
  {
   "cell_type": "code",
   "execution_count": 205,
   "id": "b5b26a01",
   "metadata": {},
   "outputs": [
    {
     "data": {
      "text/plain": [
       "'Rohit Sharma is Captain of India'"
      ]
     },
     "execution_count": 205,
     "metadata": {},
     "output_type": "execute_result"
    }
   ],
   "source": [
    "cricket = cricket.strip()\n",
    "cricket"
   ]
  },
  {
   "cell_type": "code",
   "execution_count": 206,
   "id": "77730be4",
   "metadata": {},
   "outputs": [
    {
     "data": {
      "text/plain": [
       "'Rohit Sharma is Captain of India'"
      ]
     },
     "execution_count": 206,
     "metadata": {},
     "output_type": "execute_result"
    }
   ],
   "source": [
    "cricket"
   ]
  },
  {
   "cell_type": "code",
   "execution_count": 207,
   "id": "316b2200",
   "metadata": {},
   "outputs": [
    {
     "data": {
      "text/plain": [
       "['Rohit', 'Sharma', 'is', 'Captain', 'of', 'India']"
      ]
     },
     "execution_count": 207,
     "metadata": {},
     "output_type": "execute_result"
    }
   ],
   "source": [
    "list1 = cricket.split()\n",
    "list1"
   ]
  },
  {
   "cell_type": "code",
   "execution_count": 208,
   "id": "d307a00d",
   "metadata": {},
   "outputs": [
    {
     "data": {
      "text/plain": [
       "'Rohit Sharma is Captain of India'"
      ]
     },
     "execution_count": 208,
     "metadata": {},
     "output_type": "execute_result"
    }
   ],
   "source": [
    "' '.join(list1)"
   ]
  },
  {
   "cell_type": "code",
   "execution_count": 209,
   "id": "d1b18328",
   "metadata": {},
   "outputs": [
    {
     "data": {
      "text/plain": [
       "' I am MTech Automobile Engineer '"
      ]
     },
     "execution_count": 209,
     "metadata": {},
     "output_type": "execute_result"
    }
   ],
   "source": [
    "college = \" I am MTech Automobile Engineer \"\n",
    "college"
   ]
  },
  {
   "cell_type": "code",
   "execution_count": 210,
   "id": "95f1c39a",
   "metadata": {},
   "outputs": [
    {
     "data": {
      "text/plain": [
       "'I am MTech Automobile Engineer'"
      ]
     },
     "execution_count": 210,
     "metadata": {},
     "output_type": "execute_result"
    }
   ],
   "source": [
    "college.strip()"
   ]
  },
  {
   "cell_type": "code",
   "execution_count": 211,
   "id": "709313af",
   "metadata": {},
   "outputs": [
    {
     "data": {
      "text/plain": [
       "' I am MTech Automobile Engineer'"
      ]
     },
     "execution_count": 211,
     "metadata": {},
     "output_type": "execute_result"
    }
   ],
   "source": [
    "college.rstrip()"
   ]
  },
  {
   "cell_type": "code",
   "execution_count": 212,
   "id": "85e4caab",
   "metadata": {},
   "outputs": [
    {
     "data": {
      "text/plain": [
       "'I am MTech Automobile Engineer '"
      ]
     },
     "execution_count": 212,
     "metadata": {},
     "output_type": "execute_result"
    }
   ],
   "source": [
    "college.lstrip()"
   ]
  },
  {
   "cell_type": "code",
   "execution_count": 213,
   "id": "8c492326",
   "metadata": {},
   "outputs": [
    {
     "data": {
      "text/plain": [
       "'Rohit Sharma is Captain of India'"
      ]
     },
     "execution_count": 213,
     "metadata": {},
     "output_type": "execute_result"
    }
   ],
   "source": [
    "cricket"
   ]
  },
  {
   "cell_type": "code",
   "execution_count": 214,
   "id": "fe91edd4",
   "metadata": {},
   "outputs": [
    {
     "data": {
      "text/plain": [
       "['nihar', 'gmail.com']"
      ]
     },
     "execution_count": 214,
     "metadata": {},
     "output_type": "execute_result"
    }
   ],
   "source": [
    "x = 'nihar@gmail.com'\n",
    "x.split('@')"
   ]
  },
  {
   "cell_type": "markdown",
   "id": "253ebc0c",
   "metadata": {},
   "source": [
    "# Set\n",
    "\n",
    "- Set always store unique number/ character"
   ]
  },
  {
   "cell_type": "code",
   "execution_count": 215,
   "id": "ebba0248",
   "metadata": {},
   "outputs": [
    {
     "data": {
      "text/plain": [
       "{1, 2, 3, 4, 5, 6}"
      ]
     },
     "execution_count": 215,
     "metadata": {},
     "output_type": "execute_result"
    }
   ],
   "source": [
    "a = {1,2,3,4,5,6}\n",
    "a"
   ]
  },
  {
   "cell_type": "code",
   "execution_count": 216,
   "id": "0fc8a8ec",
   "metadata": {},
   "outputs": [
    {
     "data": {
      "text/plain": [
       "set"
      ]
     },
     "execution_count": 216,
     "metadata": {},
     "output_type": "execute_result"
    }
   ],
   "source": [
    "type(a)"
   ]
  },
  {
   "cell_type": "code",
   "execution_count": 217,
   "id": "8c7cb583",
   "metadata": {},
   "outputs": [],
   "source": [
    "a.add(7)"
   ]
  },
  {
   "cell_type": "code",
   "execution_count": 218,
   "id": "eab1cf9c",
   "metadata": {},
   "outputs": [
    {
     "data": {
      "text/plain": [
       "{1, 2, 3, 4, 5, 6, 7}"
      ]
     },
     "execution_count": 218,
     "metadata": {},
     "output_type": "execute_result"
    }
   ],
   "source": [
    "a"
   ]
  },
  {
   "cell_type": "code",
   "execution_count": 219,
   "id": "7bdf3522",
   "metadata": {},
   "outputs": [
    {
     "data": {
      "text/plain": [
       "set()"
      ]
     },
     "execution_count": 219,
     "metadata": {},
     "output_type": "execute_result"
    }
   ],
   "source": [
    "a.clear()\n",
    "a"
   ]
  },
  {
   "cell_type": "code",
   "execution_count": 220,
   "id": "47015895",
   "metadata": {},
   "outputs": [
    {
     "data": {
      "text/plain": [
       "{1, 2, 3, 4, 5, 6}"
      ]
     },
     "execution_count": 220,
     "metadata": {},
     "output_type": "execute_result"
    }
   ],
   "source": [
    "a = {1,2,3,4,5,6}\n",
    "a"
   ]
  },
  {
   "cell_type": "code",
   "execution_count": 221,
   "id": "aafd07f1",
   "metadata": {},
   "outputs": [
    {
     "data": {
      "text/plain": [
       "{1, 2, 3, 4, 5, 6}"
      ]
     },
     "execution_count": 221,
     "metadata": {},
     "output_type": "execute_result"
    }
   ],
   "source": [
    "b = a.copy()\n",
    "b"
   ]
  },
  {
   "cell_type": "code",
   "execution_count": 222,
   "id": "a92dcf23",
   "metadata": {},
   "outputs": [
    {
     "data": {
      "text/plain": [
       "{2, 3, 4, 5, 6}"
      ]
     },
     "execution_count": 222,
     "metadata": {},
     "output_type": "execute_result"
    }
   ],
   "source": [
    "a.pop()\n",
    "a"
   ]
  },
  {
   "cell_type": "code",
   "execution_count": 223,
   "id": "13bebaca",
   "metadata": {},
   "outputs": [
    {
     "data": {
      "text/plain": [
       "{2, 3, 4, 6}"
      ]
     },
     "execution_count": 223,
     "metadata": {},
     "output_type": "execute_result"
    }
   ],
   "source": [
    "a.remove(5)\n",
    "a"
   ]
  },
  {
   "cell_type": "code",
   "execution_count": 224,
   "id": "0166b629",
   "metadata": {},
   "outputs": [
    {
     "data": {
      "text/plain": [
       "{1, 2, 3, 4, 5, 6, 7}"
      ]
     },
     "execution_count": 224,
     "metadata": {},
     "output_type": "execute_result"
    }
   ],
   "source": [
    "#Set always store unique number/ character\n",
    "a = {1,2,3,4,5,6,7,1}\n",
    "a"
   ]
  },
  {
   "cell_type": "code",
   "execution_count": 34,
   "id": "435ccdd1",
   "metadata": {},
   "outputs": [
    {
     "data": {
      "text/plain": [
       "{-1, -1.2, -1.9, -2, -3, -39, 0, 0.9, 1, 2, 3, 'A', 'Ha', 'Hello', 'a'}"
      ]
     },
     "execution_count": 34,
     "metadata": {},
     "output_type": "execute_result"
    }
   ],
   "source": [
    "set1 = {'Ha','Hello',0,1,2,3,'Ha','Hello',0,1,2,3,-1,-2,-3,-1.2,'A','a',0.9,-39,-1.9}\n",
    "set1"
   ]
  },
  {
   "cell_type": "code",
   "execution_count": 226,
   "id": "24ab8d95",
   "metadata": {},
   "outputs": [],
   "source": [
    "a = {1,2,3,4,5,6,7}\n",
    "b = {3,4,5,6,7,8,9}"
   ]
  },
  {
   "cell_type": "code",
   "execution_count": 227,
   "id": "63846a78",
   "metadata": {},
   "outputs": [
    {
     "data": {
      "text/plain": [
       "{1, 2, 3, 4, 5, 6, 7, 8, 9}"
      ]
     },
     "execution_count": 227,
     "metadata": {},
     "output_type": "execute_result"
    }
   ],
   "source": [
    "a.union(b)"
   ]
  },
  {
   "cell_type": "code",
   "execution_count": 228,
   "id": "da8e3596",
   "metadata": {},
   "outputs": [
    {
     "data": {
      "text/plain": [
       "{3, 4, 5, 6, 7}"
      ]
     },
     "execution_count": 228,
     "metadata": {},
     "output_type": "execute_result"
    }
   ],
   "source": [
    "a.intersection(b)"
   ]
  },
  {
   "cell_type": "code",
   "execution_count": 229,
   "id": "9b19cf0e",
   "metadata": {},
   "outputs": [
    {
     "data": {
      "text/plain": [
       "{1, 2, 8, 9}"
      ]
     },
     "execution_count": 229,
     "metadata": {},
     "output_type": "execute_result"
    }
   ],
   "source": [
    "a.symmetric_difference(b)"
   ]
  },
  {
   "cell_type": "code",
   "execution_count": 230,
   "id": "f8cbd90e",
   "metadata": {},
   "outputs": [],
   "source": [
    "a.difference_update(b)"
   ]
  },
  {
   "cell_type": "code",
   "execution_count": 231,
   "id": "4ba6dd25",
   "metadata": {},
   "outputs": [
    {
     "data": {
      "text/plain": [
       "{1, 2}"
      ]
     },
     "execution_count": 231,
     "metadata": {},
     "output_type": "execute_result"
    }
   ],
   "source": [
    "a"
   ]
  },
  {
   "cell_type": "code",
   "execution_count": 232,
   "id": "2f5f81f3",
   "metadata": {},
   "outputs": [],
   "source": [
    "b.difference_update(a)"
   ]
  },
  {
   "cell_type": "code",
   "execution_count": 233,
   "id": "f62e0abf",
   "metadata": {},
   "outputs": [
    {
     "data": {
      "text/plain": [
       "{3, 4, 5, 6, 7, 8, 9}"
      ]
     },
     "execution_count": 233,
     "metadata": {},
     "output_type": "execute_result"
    }
   ],
   "source": [
    "b"
   ]
  },
  {
   "cell_type": "code",
   "execution_count": 234,
   "id": "1353a271",
   "metadata": {},
   "outputs": [
    {
     "data": {
      "text/plain": [
       "set()"
      ]
     },
     "execution_count": 234,
     "metadata": {},
     "output_type": "execute_result"
    }
   ],
   "source": [
    "a.intersection_update(b)\n",
    "a\n"
   ]
  },
  {
   "cell_type": "code",
   "execution_count": 235,
   "id": "689e5eec",
   "metadata": {},
   "outputs": [
    {
     "data": {
      "text/plain": [
       "set()"
      ]
     },
     "execution_count": 235,
     "metadata": {},
     "output_type": "execute_result"
    }
   ],
   "source": [
    "b.intersection_update(a)\n",
    "b"
   ]
  },
  {
   "cell_type": "code",
   "execution_count": 236,
   "id": "7bba9e57",
   "metadata": {},
   "outputs": [
    {
     "data": {
      "text/plain": [
       "True"
      ]
     },
     "execution_count": 236,
     "metadata": {},
     "output_type": "execute_result"
    }
   ],
   "source": [
    "a.issuperset(b)"
   ]
  },
  {
   "cell_type": "code",
   "execution_count": 237,
   "id": "30a4f2ca",
   "metadata": {},
   "outputs": [
    {
     "data": {
      "text/plain": [
       "True"
      ]
     },
     "execution_count": 237,
     "metadata": {},
     "output_type": "execute_result"
    }
   ],
   "source": [
    "c = {1,2,3,4,5}\n",
    "d = {2,3}\n",
    "c.issuperset(d)"
   ]
  },
  {
   "cell_type": "code",
   "execution_count": 238,
   "id": "85757271",
   "metadata": {},
   "outputs": [
    {
     "data": {
      "text/plain": [
       "True"
      ]
     },
     "execution_count": 238,
     "metadata": {},
     "output_type": "execute_result"
    }
   ],
   "source": [
    "d.issubset(c)"
   ]
  },
  {
   "cell_type": "code",
   "execution_count": 239,
   "id": "f24ebe61",
   "metadata": {},
   "outputs": [],
   "source": [
    "a = {1,2,3,4,5,6,7,8,9}\n"
   ]
  },
  {
   "cell_type": "code",
   "execution_count": 240,
   "id": "bf4581d3",
   "metadata": {},
   "outputs": [
    {
     "data": {
      "text/plain": [
       "45"
      ]
     },
     "execution_count": 240,
     "metadata": {},
     "output_type": "execute_result"
    }
   ],
   "source": [
    "sum(a)"
   ]
  },
  {
   "cell_type": "code",
   "execution_count": 241,
   "id": "6a6d571f",
   "metadata": {},
   "outputs": [
    {
     "data": {
      "text/plain": [
       "1"
      ]
     },
     "execution_count": 241,
     "metadata": {},
     "output_type": "execute_result"
    }
   ],
   "source": [
    "min(a)"
   ]
  },
  {
   "cell_type": "code",
   "execution_count": 242,
   "id": "fcf327da",
   "metadata": {},
   "outputs": [
    {
     "data": {
      "text/plain": [
       "9"
      ]
     },
     "execution_count": 242,
     "metadata": {},
     "output_type": "execute_result"
    }
   ],
   "source": [
    "max(a)"
   ]
  },
  {
   "cell_type": "code",
   "execution_count": 243,
   "id": "2b847fcb",
   "metadata": {},
   "outputs": [
    {
     "data": {
      "text/plain": [
       "[9, 8, 7, 6, 5, 4, 3, 2, 1]"
      ]
     },
     "execution_count": 243,
     "metadata": {},
     "output_type": "execute_result"
    }
   ],
   "source": [
    "(sorted(a,reverse=True))"
   ]
  },
  {
   "cell_type": "markdown",
   "id": "f4a3d12c",
   "metadata": {},
   "source": [
    "# Dictionary:\n",
    "- dictonary has no indexing\n",
    "- dictionary is a mutable types\n",
    "- Keys -> should be immutable, value-> they can be mutable\n",
    "- Keys Should be unique"
   ]
  },
  {
   "cell_type": "code",
   "execution_count": 1,
   "id": "7886ee3c",
   "metadata": {},
   "outputs": [
    {
     "data": {
      "text/plain": [
       "{'Name': 'Nihar', 'Roll_number': 1, 'Subject': 'Python', 'Marks': 30}"
      ]
     },
     "execution_count": 1,
     "metadata": {},
     "output_type": "execute_result"
    }
   ],
   "source": [
    "d = {'Name':'Nihar','Roll_number':1,'Subject':'Python','Marks':30}\n",
    "d"
   ]
  },
  {
   "cell_type": "code",
   "execution_count": 2,
   "id": "b60771bb",
   "metadata": {},
   "outputs": [
    {
     "data": {
      "text/plain": [
       "dict"
      ]
     },
     "execution_count": 2,
     "metadata": {},
     "output_type": "execute_result"
    }
   ],
   "source": [
    "type(d)"
   ]
  },
  {
   "cell_type": "code",
   "execution_count": 3,
   "id": "78f91469",
   "metadata": {},
   "outputs": [
    {
     "data": {
      "text/plain": [
       "dict_keys(['Name', 'Roll_number', 'Subject', 'Marks'])"
      ]
     },
     "execution_count": 3,
     "metadata": {},
     "output_type": "execute_result"
    }
   ],
   "source": [
    "d.keys()"
   ]
  },
  {
   "cell_type": "code",
   "execution_count": 4,
   "id": "f281205c",
   "metadata": {},
   "outputs": [
    {
     "data": {
      "text/plain": [
       "dict_values(['Nihar', 1, 'Python', 30])"
      ]
     },
     "execution_count": 4,
     "metadata": {},
     "output_type": "execute_result"
    }
   ],
   "source": [
    "d.values()"
   ]
  },
  {
   "cell_type": "code",
   "execution_count": 5,
   "id": "6a79687e",
   "metadata": {},
   "outputs": [
    {
     "data": {
      "text/plain": [
       "dict_items([('Name', 'Nihar'), ('Roll_number', 1), ('Subject', 'Python'), ('Marks', 30)])"
      ]
     },
     "execution_count": 5,
     "metadata": {},
     "output_type": "execute_result"
    }
   ],
   "source": [
    "d.items()"
   ]
  },
  {
   "cell_type": "code",
   "execution_count": 249,
   "id": "991d6d3d",
   "metadata": {},
   "outputs": [
    {
     "data": {
      "text/plain": [
       "{'Name': 'Nihar', 'Roll_number': 1, 'Subject': 'Python', 'Marks': 30}"
      ]
     },
     "execution_count": 249,
     "metadata": {},
     "output_type": "execute_result"
    }
   ],
   "source": [
    "e = d.copy()\n",
    "e"
   ]
  },
  {
   "cell_type": "code",
   "execution_count": 250,
   "id": "a3da7965",
   "metadata": {},
   "outputs": [],
   "source": [
    "#d.fromkeys()"
   ]
  },
  {
   "cell_type": "code",
   "execution_count": 7,
   "id": "4d2c7015",
   "metadata": {},
   "outputs": [
    {
     "data": {
      "text/plain": [
       "'Nihar'"
      ]
     },
     "execution_count": 7,
     "metadata": {},
     "output_type": "execute_result"
    }
   ],
   "source": [
    "d.get('Name')"
   ]
  },
  {
   "cell_type": "code",
   "execution_count": 6,
   "id": "784422ea",
   "metadata": {},
   "outputs": [
    {
     "data": {
      "text/plain": [
       "'Nihar'"
      ]
     },
     "execution_count": 6,
     "metadata": {},
     "output_type": "execute_result"
    }
   ],
   "source": [
    "d['Name']"
   ]
  },
  {
   "cell_type": "code",
   "execution_count": 8,
   "id": "b49c9e1b",
   "metadata": {},
   "outputs": [
    {
     "data": {
      "text/plain": [
       "30"
      ]
     },
     "execution_count": 8,
     "metadata": {},
     "output_type": "execute_result"
    }
   ],
   "source": [
    "d['Marks']"
   ]
  },
  {
   "cell_type": "code",
   "execution_count": 9,
   "id": "33c249ff",
   "metadata": {},
   "outputs": [
    {
     "data": {
      "text/plain": [
       "{'Name': 'Ranjan', 'Roll_number': 1, 'Subject': 'Python', 'Marks': 30}"
      ]
     },
     "execution_count": 9,
     "metadata": {},
     "output_type": "execute_result"
    }
   ],
   "source": [
    "d['Name'] = 'Ranjan'\n",
    "d"
   ]
  },
  {
   "cell_type": "code",
   "execution_count": 10,
   "id": "c3c0bd0e",
   "metadata": {},
   "outputs": [
    {
     "data": {
      "text/plain": [
       "{'Name': ['Nihar', 'Ranjan', 'Swain'], 'Age': [24, 27, 28]}"
      ]
     },
     "execution_count": 10,
     "metadata": {},
     "output_type": "execute_result"
    }
   ],
   "source": [
    "dict1 = {'Name':['Nihar','Ranjan','Swain'],'Age':[24,27,28]}\n",
    "dict1"
   ]
  },
  {
   "cell_type": "code",
   "execution_count": 12,
   "id": "4d75b4f6",
   "metadata": {},
   "outputs": [
    {
     "data": {
      "text/plain": [
       "{'Name': ['Nihar', 'Ranjan', 'Swain'],\n",
       " 'Age': [24, 27, 28],\n",
       " 'Weight': [78, 75, 70]}"
      ]
     },
     "execution_count": 12,
     "metadata": {},
     "output_type": "execute_result"
    }
   ],
   "source": [
    "dict1['Weight'] = [78,75,70]\n",
    "dict1"
   ]
  },
  {
   "cell_type": "code",
   "execution_count": 34,
   "id": "d7dcda74",
   "metadata": {},
   "outputs": [
    {
     "data": {
      "text/plain": [
       "{'A': [1, 2, 3, 4], 'B': [2, 3, 4, 5]}"
      ]
     },
     "execution_count": 34,
     "metadata": {},
     "output_type": "execute_result"
    }
   ],
   "source": [
    "dict2 = {'A':[1,2,3,4],'B':[2,3,4,5]}\n",
    "dict2"
   ]
  },
  {
   "cell_type": "code",
   "execution_count": 35,
   "id": "e00b62eb",
   "metadata": {},
   "outputs": [
    {
     "data": {
      "text/plain": [
       "[2, 3, 4, 5]"
      ]
     },
     "execution_count": 35,
     "metadata": {},
     "output_type": "execute_result"
    }
   ],
   "source": [
    "dict2.pop('B')"
   ]
  },
  {
   "cell_type": "code",
   "execution_count": 36,
   "id": "21439081",
   "metadata": {},
   "outputs": [
    {
     "data": {
      "text/plain": [
       "{'A': [1, 2, 3, 4]}"
      ]
     },
     "execution_count": 36,
     "metadata": {},
     "output_type": "execute_result"
    }
   ],
   "source": [
    "dict2"
   ]
  },
  {
   "cell_type": "markdown",
   "id": "798ab7c6",
   "metadata": {},
   "source": [
    "# IF and ELSE"
   ]
  },
  {
   "cell_type": "code",
   "execution_count": 5,
   "id": "cebbca95",
   "metadata": {},
   "outputs": [
    {
     "name": "stdout",
     "output_type": "stream",
     "text": [
      "Enter your name : Nihar\n"
     ]
    }
   ],
   "source": [
    "name = input(\"Enter your name : \")\n",
    "#print(name)"
   ]
  },
  {
   "cell_type": "code",
   "execution_count": 3,
   "id": "d9ef23ce",
   "metadata": {},
   "outputs": [
    {
     "name": "stdout",
     "output_type": "stream",
     "text": [
      "Enter your age : 28\n"
     ]
    }
   ],
   "source": [
    "age = int(input('Enter your age : '))\n"
   ]
  },
  {
   "cell_type": "code",
   "execution_count": 35,
   "id": "bfa97e50",
   "metadata": {},
   "outputs": [
    {
     "name": "stdout",
     "output_type": "stream",
     "text": [
      "value of a is  5\n"
     ]
    }
   ],
   "source": [
    "a = 5 # assigning\n",
    "print('value of a is ',a)"
   ]
  },
  {
   "cell_type": "code",
   "execution_count": 6,
   "id": "c660b471",
   "metadata": {},
   "outputs": [
    {
     "name": "stdout",
     "output_type": "stream",
     "text": [
      "6 is greater than 5\n"
     ]
    }
   ],
   "source": [
    "a,b = 5,6\n",
    "print('{} is greater than {}'.format(b,a))"
   ]
  },
  {
   "cell_type": "code",
   "execution_count": 10,
   "id": "0ab91877",
   "metadata": {},
   "outputs": [],
   "source": [
    "# if syntax"
   ]
  },
  {
   "cell_type": "markdown",
   "id": "9eabcf8a",
   "metadata": {},
   "source": [
    "# type of operator\n",
    "- == : equal to\n",
    "- '>' :greater than\n",
    "- '>=': greater than equal to\n",
    "- <: less than\n",
    "- <= : less than equal to\n",
    "- != : not equal to"
   ]
  },
  {
   "cell_type": "code",
   "execution_count": 12,
   "id": "95626bf7",
   "metadata": {},
   "outputs": [],
   "source": [
    "a = 7\n",
    "b = 6\n",
    "c = 5\n",
    "d = 5"
   ]
  },
  {
   "cell_type": "code",
   "execution_count": 14,
   "id": "91e9776f",
   "metadata": {},
   "outputs": [
    {
     "name": "stdout",
     "output_type": "stream",
     "text": [
      "Hi\n"
     ]
    }
   ],
   "source": [
    "if c==d:\n",
    "    print('Hi')\n",
    "else:\n",
    "    print('Bye')"
   ]
  },
  {
   "cell_type": "code",
   "execution_count": 17,
   "id": "8aab8bd4",
   "metadata": {},
   "outputs": [
    {
     "name": "stdout",
     "output_type": "stream",
     "text": [
      "Bye\n"
     ]
    }
   ],
   "source": [
    "if c!=d:\n",
    "    print('Hi')\n",
    "else:\n",
    "    print('Bye')"
   ]
  },
  {
   "cell_type": "code",
   "execution_count": 16,
   "id": "f0643162",
   "metadata": {},
   "outputs": [
    {
     "name": "stdout",
     "output_type": "stream",
     "text": [
      "Hello\n"
     ]
    }
   ],
   "source": [
    "if c>d:\n",
    "    print('Hi')\n",
    "elif c==d:\n",
    "    print('Hello')\n",
    "else:\n",
    "    print('Bye')"
   ]
  },
  {
   "cell_type": "code",
   "execution_count": 18,
   "id": "20fb1579",
   "metadata": {},
   "outputs": [
    {
     "name": "stdout",
     "output_type": "stream",
     "text": [
      "Bye\n"
     ]
    }
   ],
   "source": [
    "if c>d:\n",
    "    print('Hi')\n",
    "elif c<d:\n",
    "    print('Hello')\n",
    "else:\n",
    "    print('Bye')"
   ]
  },
  {
   "cell_type": "code",
   "execution_count": 11,
   "id": "0fa9931b",
   "metadata": {},
   "outputs": [
    {
     "name": "stdout",
     "output_type": "stream",
     "text": [
      "num1 = 5\n",
      "num2 = 6\n",
      "num3 = 7\n"
     ]
    }
   ],
   "source": [
    "num1 = int(input('num1 = '))\n",
    "num2 = int(input('num2 = '))\n",
    "num3 = int(input('num3 = '))\n",
    "#print(num1,num2,num3)"
   ]
  },
  {
   "cell_type": "code",
   "execution_count": 13,
   "id": "0e73cb6f",
   "metadata": {},
   "outputs": [
    {
     "name": "stdout",
     "output_type": "stream",
     "text": [
      "num1 = 560\n",
      "num2 = 873\n",
      "num3 = -987\n",
      "num2 is greater value\n"
     ]
    }
   ],
   "source": [
    "# WAP to find greater number in among three number\n",
    "num1 = int(input('num1 = '))\n",
    "num2 = int(input('num2 = '))\n",
    "num3 = int(input('num3 = '))\n",
    "if num1>num2 and num1>num3:\n",
    "    print('num1 is greater value')\n",
    "elif num2>num1 and num2>num3:\n",
    "    print('num2 is greater value')\n",
    "else:\n",
    "    print('num3 is greater value')"
   ]
  },
  {
   "cell_type": "code",
   "execution_count": 17,
   "id": "3dac54d9",
   "metadata": {},
   "outputs": [
    {
     "name": "stdout",
     "output_type": "stream",
     "text": [
      "num1 = 567\n",
      "num2 = 564\n",
      "num3 = 565\n",
      "num1 is greater value\n",
      "num2 is smallest value\n"
     ]
    }
   ],
   "source": [
    "# WAP to find greater and smaller number in among three number\n",
    "num1 = int(input('num1 = '))\n",
    "num2 = int(input('num2 = '))\n",
    "num3 = int(input('num3 = '))\n",
    "if num1>num2 and num1>num3 and num2>num3:\n",
    "    print('num1 is greater value')\n",
    "    print('num3 is smallest value')\n",
    "elif num1>num2 and num1>num3 and num3>num2:\n",
    "    print('num1 is greater value')\n",
    "    print('num2 is smallest value')\n",
    "elif num2>num1 and num2>num3 and num3>num1 :\n",
    "    print('num2 is greater value')\n",
    "    print('num1 is smallest value')\n",
    "elif num2>num1 and num2>num3 and num1>num3 :\n",
    "    print('num2 is greater value')\n",
    "    print('num3 is smallest value')\n",
    "elif num3>num1 and num3>num1 and num1>num2 :\n",
    "    print('num3 is greater value')\n",
    "    print('num2 is smallest value')\n",
    "elif num3>num1 and num3>num1 and num2>num1 :\n",
    "    print('num3 is greater value')\n",
    "    print('num1 is smallest value')\n",
    "   "
   ]
  },
  {
   "cell_type": "markdown",
   "id": "c6fd1243",
   "metadata": {},
   "source": [
    "# For Loop"
   ]
  },
  {
   "cell_type": "code",
   "execution_count": 19,
   "id": "191778f6",
   "metadata": {},
   "outputs": [
    {
     "name": "stdout",
     "output_type": "stream",
     "text": [
      "1\n",
      "2\n",
      "3\n",
      "4\n",
      "5\n"
     ]
    }
   ],
   "source": [
    "list1 = [1,2,3,4,5]\n",
    "\n",
    "for i in list1:\n",
    "    print(i)"
   ]
  },
  {
   "cell_type": "code",
   "execution_count": null,
   "id": "4a0dfdac",
   "metadata": {},
   "outputs": [],
   "source": [
    "list1 = [1,2,3,4,5]\n",
    "enumerate()"
   ]
  },
  {
   "cell_type": "code",
   "execution_count": 21,
   "id": "da8968a7",
   "metadata": {},
   "outputs": [
    {
     "name": "stdout",
     "output_type": "stream",
     "text": [
      "0 1\n",
      "1 2\n",
      "2 3\n",
      "3 4\n",
      "4 5\n"
     ]
    }
   ],
   "source": [
    "list1 = [1,2,3,4,5]\n",
    "\n",
    "for i,j in enumerate(list1):\n",
    "    print(i,j)"
   ]
  },
  {
   "cell_type": "code",
   "execution_count": 23,
   "id": "7f818842",
   "metadata": {},
   "outputs": [
    {
     "data": {
      "text/plain": [
       "[1, 2, 3, 4, 5, 6, 7, 8, 9, 10]"
      ]
     },
     "execution_count": 23,
     "metadata": {},
     "output_type": "execute_result"
    }
   ],
   "source": [
    "list1 = list(range(1,11))\n",
    "list1"
   ]
  },
  {
   "cell_type": "code",
   "execution_count": 25,
   "id": "84469588",
   "metadata": {},
   "outputs": [
    {
     "data": {
      "text/plain": [
       "[10, 20, 30, 40, 50, 60, 70, 80, 90, 100]"
      ]
     },
     "execution_count": 25,
     "metadata": {},
     "output_type": "execute_result"
    }
   ],
   "source": [
    "list2 = list(range(10,101,10))\n",
    "list2"
   ]
  },
  {
   "cell_type": "code",
   "execution_count": 29,
   "id": "32986445",
   "metadata": {},
   "outputs": [
    {
     "data": {
      "text/plain": [
       "[100, 90, 80, 70, 60, 50, 40, 30, 20, 10]"
      ]
     },
     "execution_count": 29,
     "metadata": {},
     "output_type": "execute_result"
    }
   ],
   "source": [
    "list3 = list(range(100,9,-10))\n",
    "list3"
   ]
  },
  {
   "cell_type": "code",
   "execution_count": 32,
   "id": "2a9f2c1d",
   "metadata": {},
   "outputs": [
    {
     "name": "stdout",
     "output_type": "stream",
     "text": [
      "1\n",
      "2\n",
      "3\n",
      "4\n",
      "5\n",
      "6\n",
      "7\n",
      "8\n",
      "9\n",
      "10\n"
     ]
    }
   ],
   "source": [
    "for i in range(1,11):\n",
    "    print(i)"
   ]
  },
  {
   "cell_type": "code",
   "execution_count": 34,
   "id": "ab6c2afe",
   "metadata": {},
   "outputs": [
    {
     "name": "stdout",
     "output_type": "stream",
     "text": [
      "The multiplication table : 8\n",
      "8\n",
      "16\n",
      "24\n",
      "32\n",
      "40\n",
      "48\n",
      "56\n",
      "64\n",
      "72\n",
      "80\n"
     ]
    }
   ],
   "source": [
    "num = int(input('The multiplication table : '))\n",
    "for i in range(1,11):\n",
    "    table_val = i * num\n",
    "    print(table_val)"
   ]
  },
  {
   "cell_type": "code",
   "execution_count": 37,
   "id": "22b7fc21",
   "metadata": {},
   "outputs": [
    {
     "name": "stdout",
     "output_type": "stream",
     "text": [
      "The multiplication table : 23\n",
      "[23, 46, 69, 92, 115, 138, 161, 184, 207, 230]\n"
     ]
    }
   ],
   "source": [
    "num = int(input('The multiplication table : '))\n",
    "mul_list = []\n",
    "for i in range(1,11):\n",
    "    table_val = i * num\n",
    "    mul_list.append(table_val)\n",
    "    \n",
    "print(mul_list)"
   ]
  },
  {
   "cell_type": "code",
   "execution_count": 38,
   "id": "978a5eac",
   "metadata": {},
   "outputs": [
    {
     "name": "stdout",
     "output_type": "stream",
     "text": [
      "The multiplication table : 8\n",
      "[8, 16, 24, 32, 40, 48, 56, 64, 72, 80]\n"
     ]
    }
   ],
   "source": [
    "num = int(input('The multiplication table : '))\n",
    "mul_list = []\n",
    "for i in range(1,11):\n",
    "    mul_list.append(i * num)\n",
    "print(mul_list)"
   ]
  },
  {
   "cell_type": "code",
   "execution_count": 8,
   "id": "e166cd78",
   "metadata": {},
   "outputs": [
    {
     "name": "stdout",
     "output_type": "stream",
     "text": [
      "* \n",
      "* * \n",
      "* * * \n",
      "* * * * \n",
      "* * * * * \n"
     ]
    }
   ],
   "source": [
    "for i in range(0,5):\n",
    "    for j in range(0,i+1):\n",
    "        print('* ',end='')\n",
    "        \n",
    "    print()\n",
    "    "
   ]
  },
  {
   "cell_type": "code",
   "execution_count": 8,
   "id": "3b136f41",
   "metadata": {},
   "outputs": [
    {
     "name": "stdout",
     "output_type": "stream",
     "text": [
      "* \n",
      "* * \n",
      "* * * \n",
      "* * * * \n",
      "* * * * * \n"
     ]
    }
   ],
   "source": [
    "for i in range(0,5):\n",
    "    for j in range(0,i+1):\n",
    "        print('*',end=' ')\n",
    "    print()"
   ]
  },
  {
   "cell_type": "code",
   "execution_count": 12,
   "id": "43301e29",
   "metadata": {},
   "outputs": [
    {
     "name": "stdout",
     "output_type": "stream",
     "text": [
      "0 \n",
      "0 1 \n",
      "0 1 2 \n",
      "0 1 2 3 \n",
      "0 1 2 3 4 \n"
     ]
    }
   ],
   "source": [
    "for i in range(0,5):\n",
    "    for j in range(0,i+1):\n",
    "        print(j,end=' ')\n",
    "    print()\n",
    "    "
   ]
  },
  {
   "cell_type": "code",
   "execution_count": 13,
   "id": "9f9bc3b5",
   "metadata": {},
   "outputs": [
    {
     "name": "stdout",
     "output_type": "stream",
     "text": [
      "1\n",
      "2\n",
      "3\n",
      "4\n",
      "5\n",
      "6\n",
      "7\n",
      "8\n",
      "9\n"
     ]
    }
   ],
   "source": [
    "list1 = [1,2,3,4,5,6,7,8,9]\n",
    "\n",
    "for item in list1:\n",
    "    print(item)"
   ]
  },
  {
   "cell_type": "code",
   "execution_count": 1,
   "id": "7d6eaf2f",
   "metadata": {},
   "outputs": [
    {
     "name": "stdout",
     "output_type": "stream",
     "text": [
      "0\n",
      "1\n",
      "2\n",
      "3\n",
      "4\n",
      "5\n",
      "6\n",
      "7\n",
      "8\n",
      "9\n",
      "10\n"
     ]
    }
   ],
   "source": [
    "for i in range(0,11):\n",
    "    print(i)"
   ]
  },
  {
   "cell_type": "code",
   "execution_count": 3,
   "id": "e035ae6e",
   "metadata": {},
   "outputs": [
    {
     "name": "stdout",
     "output_type": "stream",
     "text": [
      "a value is 5 and b value is 6\n"
     ]
    }
   ],
   "source": [
    "a = 5\n",
    "b = 6\n",
    "print('a value is {} and b value is {}'.format(a,b))"
   ]
  },
  {
   "cell_type": "code",
   "execution_count": 8,
   "id": "e46eb89b",
   "metadata": {},
   "outputs": [
    {
     "name": "stdout",
     "output_type": "stream",
     "text": [
      "a value is 5\n"
     ]
    }
   ],
   "source": [
    "a = 5\n",
    "b = 6\n",
    "print('a value is %d'%a)"
   ]
  },
  {
   "cell_type": "code",
   "execution_count": 10,
   "id": "d8a54756",
   "metadata": {},
   "outputs": [
    {
     "name": "stdout",
     "output_type": "stream",
     "text": [
      "Hello, Good Morning\n"
     ]
    }
   ],
   "source": [
    "string1 = 'Good'\n",
    "print('Hello, %s Morning'%string1)"
   ]
  },
  {
   "cell_type": "code",
   "execution_count": 11,
   "id": "e4869e4d",
   "metadata": {},
   "outputs": [
    {
     "name": "stdout",
     "output_type": "stream",
     "text": [
      "a value is 5 and b value is 6\n"
     ]
    }
   ],
   "source": [
    "a = 5\n",
    "b = 6\n",
    "print('a value is {0} and b value is {1}'.format(a,b))"
   ]
  },
  {
   "cell_type": "code",
   "execution_count": 14,
   "id": "83628fab",
   "metadata": {},
   "outputs": [
    {
     "name": "stdout",
     "output_type": "stream",
     "text": [
      "b value is 6 and a value is 5\n"
     ]
    }
   ],
   "source": [
    "a = 5\n",
    "b = 6\n",
    "print('b value is {1} and a value is {0}'.format(a,b))"
   ]
  },
  {
   "cell_type": "code",
   "execution_count": 16,
   "id": "074381dc",
   "metadata": {},
   "outputs": [
    {
     "name": "stdout",
     "output_type": "stream",
     "text": [
      "b value is 6 and a value is 5\n"
     ]
    }
   ],
   "source": [
    "a = 5\n",
    "b = 6\n",
    "print(f'b value is {b} and a value is {a}')"
   ]
  },
  {
   "cell_type": "code",
   "execution_count": 2,
   "id": "457a93b3",
   "metadata": {},
   "outputs": [
    {
     "data": {
      "text/plain": [
       "1.0"
      ]
     },
     "execution_count": 2,
     "metadata": {},
     "output_type": "execute_result"
    }
   ],
   "source": [
    "import numpy as np\n",
    "-(3/6)*np.log2(3/6)-(3/6)*np.log2(3/6)"
   ]
  },
  {
   "cell_type": "code",
   "execution_count": 6,
   "id": "5dd72de2",
   "metadata": {},
   "outputs": [
    {
     "data": {
      "text/plain": [
       "1"
      ]
     },
     "execution_count": 6,
     "metadata": {},
     "output_type": "execute_result"
    }
   ],
   "source": [
    "import random \n",
    "arr = [1,1,1,1,1]\n",
    "\n",
    "cap = []\n",
    "\n",
    "for i in range(len(arr)):    \n",
    "    if arr[i] not in cap:\n",
    "        cap.append(arr[i])\n",
    "        \n",
    "len(cap)"
   ]
  },
  {
   "cell_type": "code",
   "execution_count": 19,
   "id": "b257d343",
   "metadata": {},
   "outputs": [
    {
     "data": {
      "text/plain": [
       "[3, 6, 3, 6]"
      ]
     },
     "execution_count": 19,
     "metadata": {},
     "output_type": "execute_result"
    }
   ],
   "source": [
    "arr = [1,2,3,4,1,4]\n",
    "\n",
    "cap = []\n",
    "\n",
    "for i in range(len(arr)): \n",
    "    for j in range(i + 1, len(arr)):\n",
    "        if (arr[i]+ arr[j])%3 == 0:\n",
    "            cap.append(arr[i]+arr[j])\n",
    "            \n",
    "cap"
   ]
  },
  {
   "cell_type": "code",
   "execution_count": 15,
   "id": "4bb44346",
   "metadata": {},
   "outputs": [
    {
     "name": "stdout",
     "output_type": "stream",
     "text": [
      "[1, 2, 3, 11, 12, 22, 23, 25, 34, 44, 64, 122]\n"
     ]
    }
   ],
   "source": [
    "l = [64, 25, 12, 22, 11, 1,2,44,3,122, 23, 34]\n",
    "\n",
    "for i in range(len(l)):\n",
    "    for j in range(i + 1, len(l)):\n",
    "\n",
    "        if l[i] > l[j]:\n",
    "            l[i], l[j] = l[j], l[i]\n",
    "\n",
    "print(l)"
   ]
  },
  {
   "cell_type": "code",
   "execution_count": 4,
   "id": "b32525d7",
   "metadata": {},
   "outputs": [
    {
     "data": {
      "text/plain": [
       "[11, 12, 13, 14, 15, 16, 17, 18, 19, 20]"
      ]
     },
     "execution_count": 4,
     "metadata": {},
     "output_type": "execute_result"
    }
   ],
   "source": [
    "l = [i for i in range(11,21)]\n",
    "l"
   ]
  },
  {
   "cell_type": "code",
   "execution_count": 6,
   "id": "7e3b7f83",
   "metadata": {},
   "outputs": [
    {
     "name": "stdout",
     "output_type": "stream",
     "text": [
      "11\n",
      "0\n",
      "12\n",
      "1\n",
      "13\n",
      "2\n",
      "14\n",
      "3\n",
      "15\n",
      "4\n",
      "16\n",
      "5\n",
      "17\n",
      "6\n",
      "18\n",
      "7\n",
      "19\n",
      "8\n",
      "20\n",
      "9\n"
     ]
    }
   ],
   "source": [
    "for _,i in enumerate(l):\n",
    "    print(i)\n",
    "    print(_)"
   ]
  },
  {
   "cell_type": "code",
   "execution_count": 1,
   "id": "4373007a",
   "metadata": {},
   "outputs": [
    {
     "data": {
      "text/plain": [
       "[[1, 2, 3], [1, 2, 3], [1, 2, 3]]"
      ]
     },
     "execution_count": 1,
     "metadata": {},
     "output_type": "execute_result"
    }
   ],
   "source": [
    "a = [[1,2,3],[1,2,3],[1,2,3]]\n",
    "b = [[1,2,3],[1,2,3],[1,2,3]]\n",
    "\n",
    "a"
   ]
  },
  {
   "cell_type": "code",
   "execution_count": 6,
   "id": "0c3cf937",
   "metadata": {},
   "outputs": [],
   "source": [
    "c = [[0,0,0],[0,0,0],[0,0,0]]\n",
    "\n",
    "for i in range(len(a)):\n",
    "    for j in range(len(b[0])):\n",
    "        for k in range(len(b)):\n",
    "            c[i][j] += a[i][k] * b[k][j]    "
   ]
  },
  {
   "cell_type": "code",
   "execution_count": 7,
   "id": "6a91fcb3",
   "metadata": {},
   "outputs": [
    {
     "data": {
      "text/plain": [
       "[[6, 12, 18], [6, 12, 18], [6, 12, 18]]"
      ]
     },
     "execution_count": 7,
     "metadata": {},
     "output_type": "execute_result"
    }
   ],
   "source": [
    "c"
   ]
  },
  {
   "cell_type": "code",
   "execution_count": 8,
   "id": "a078abbe",
   "metadata": {},
   "outputs": [
    {
     "ename": "NameError",
     "evalue": "name 'a_row' is not defined",
     "output_type": "error",
     "traceback": [
      "\u001b[1;31m---------------------------------------------------------------------------\u001b[0m",
      "\u001b[1;31mNameError\u001b[0m                                 Traceback (most recent call last)",
      "Input \u001b[1;32mIn [8]\u001b[0m, in \u001b[0;36m<cell line: 1>\u001b[1;34m()\u001b[0m\n\u001b[1;32m----> 1\u001b[0m \u001b[43ma_row\u001b[49m\n",
      "\u001b[1;31mNameError\u001b[0m: name 'a_row' is not defined"
     ]
    }
   ],
   "source": [
    "a_row"
   ]
  },
  {
   "cell_type": "code",
   "execution_count": 3,
   "id": "e290c67e",
   "metadata": {},
   "outputs": [
    {
     "data": {
      "text/plain": [
       "104"
      ]
     },
     "execution_count": 3,
     "metadata": {},
     "output_type": "execute_result"
    }
   ],
   "source": [
    "import sys\n",
    "a = (i for i in range(0,100000))\n",
    "sys.getsizeof(a)"
   ]
  },
  {
   "cell_type": "code",
   "execution_count": 4,
   "id": "489525bb",
   "metadata": {},
   "outputs": [
    {
     "data": {
      "text/plain": [
       "generator"
      ]
     },
     "execution_count": 4,
     "metadata": {},
     "output_type": "execute_result"
    }
   ],
   "source": [
    "type(a)"
   ]
  },
  {
   "cell_type": "code",
   "execution_count": 2,
   "id": "e5ed1771",
   "metadata": {},
   "outputs": [
    {
     "data": {
      "text/plain": [
       "800984"
      ]
     },
     "execution_count": 2,
     "metadata": {},
     "output_type": "execute_result"
    }
   ],
   "source": [
    "a = [i for i in range(0,100000)]\n",
    "sys.getsizeof(a)"
   ]
  },
  {
   "cell_type": "code",
   "execution_count": null,
   "id": "79cd42ef",
   "metadata": {},
   "outputs": [],
   "source": []
  }
 ],
 "metadata": {
  "kernelspec": {
   "display_name": "Python 3 (ipykernel)",
   "language": "python",
   "name": "python3"
  },
  "language_info": {
   "codemirror_mode": {
    "name": "ipython",
    "version": 3
   },
   "file_extension": ".py",
   "mimetype": "text/x-python",
   "name": "python",
   "nbconvert_exporter": "python",
   "pygments_lexer": "ipython3",
   "version": "3.11.4"
  }
 },
 "nbformat": 4,
 "nbformat_minor": 5
}
