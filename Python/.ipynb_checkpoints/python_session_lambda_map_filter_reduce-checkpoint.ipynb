{
 "cells": [
  {
   "cell_type": "code",
   "execution_count": 3,
   "id": "23c8daa7",
   "metadata": {},
   "outputs": [
    {
     "data": {
      "text/plain": [
       "81"
      ]
     },
     "execution_count": 3,
     "metadata": {},
     "output_type": "execute_result"
    }
   ],
   "source": [
    "f = lambda x: x**2\n",
    "f(9)"
   ]
  },
  {
   "cell_type": "code",
   "execution_count": 4,
   "id": "c7a5058c",
   "metadata": {},
   "outputs": [
    {
     "data": {
      "text/plain": [
       "17"
      ]
     },
     "execution_count": 4,
     "metadata": {},
     "output_type": "execute_result"
    }
   ],
   "source": [
    "s = lambda x,y: x+y\n",
    "s(9,8)"
   ]
  },
  {
   "cell_type": "code",
   "execution_count": 5,
   "id": "7d84e5e7",
   "metadata": {},
   "outputs": [
    {
     "data": {
      "text/plain": [
       "function"
      ]
     },
     "execution_count": 5,
     "metadata": {},
     "output_type": "execute_result"
    }
   ],
   "source": [
    "type(s)"
   ]
  },
  {
   "cell_type": "markdown",
   "id": "f84df488",
   "metadata": {},
   "source": [
    "1. lambda has no return value\n",
    "2. One line\n",
    "3. Not used for code reusability\n",
    "4. No name of lambda function\n",
    "5. Along with higher order functions\n"
   ]
  },
  {
   "cell_type": "code",
   "execution_count": 7,
   "id": "ef6eac75",
   "metadata": {},
   "outputs": [],
   "source": [
    "b = lambda x: x[0]=='a'"
   ]
  },
  {
   "cell_type": "code",
   "execution_count": 8,
   "id": "39485eba",
   "metadata": {},
   "outputs": [
    {
     "data": {
      "text/plain": [
       "True"
      ]
     },
     "execution_count": 8,
     "metadata": {},
     "output_type": "execute_result"
    }
   ],
   "source": [
    "b('apple')"
   ]
  },
  {
   "cell_type": "code",
   "execution_count": 9,
   "id": "499249cf",
   "metadata": {},
   "outputs": [
    {
     "data": {
      "text/plain": [
       "'Odd'"
      ]
     },
     "execution_count": 9,
     "metadata": {},
     "output_type": "execute_result"
    }
   ],
   "source": [
    "fun = lambda x: 'Even' if x%2 ==0 else 'Odd'\n",
    "fun(8)\n",
    "fun(3)"
   ]
  },
  {
   "cell_type": "code",
   "execution_count": 10,
   "id": "5c1eb2ed",
   "metadata": {},
   "outputs": [
    {
     "data": {
      "text/plain": [
       "'Even'"
      ]
     },
     "execution_count": 10,
     "metadata": {},
     "output_type": "execute_result"
    }
   ],
   "source": [
    "fun(8)"
   ]
  },
  {
   "cell_type": "code",
   "execution_count": 24,
   "id": "ce3928ee",
   "metadata": {},
   "outputs": [
    {
     "data": {
      "text/plain": [
       "(176, 129, 144)"
      ]
     },
     "execution_count": 24,
     "metadata": {},
     "output_type": "execute_result"
    }
   ],
   "source": [
    "L = [11,14,21,23,56,78,45,29,28]\n",
    "\n",
    "def return_sum(L):\n",
    "    even_sum = 0\n",
    "    odd_sum = 0\n",
    "    div3_sum = 0\n",
    "    \n",
    "    for i in L:\n",
    "        if i%2 == 0:\n",
    "            even_sum += i\n",
    "        if i%2 != 0:\n",
    "            odd_sum += i\n",
    "        if i%3 == 0:\n",
    "            div3_sum += i\n",
    "            \n",
    "    return even_sum, odd_sum, div3_sum\n",
    "return_sum(L)     "
   ]
  },
  {
   "cell_type": "code",
   "execution_count": 18,
   "id": "82f28a07",
   "metadata": {},
   "outputs": [],
   "source": [
    "even = lambda x: x%2 == 0\n",
    "odd = lambda x: x%2 != 0\n",
    "div3 = lambda x: x%3 == 0"
   ]
  },
  {
   "cell_type": "code",
   "execution_count": 15,
   "id": "966aa572",
   "metadata": {},
   "outputs": [
    {
     "data": {
      "text/plain": [
       "False"
      ]
     },
     "execution_count": 15,
     "metadata": {},
     "output_type": "execute_result"
    }
   ],
   "source": [
    "x(9)"
   ]
  },
  {
   "cell_type": "code",
   "execution_count": 20,
   "id": "1cee4aef",
   "metadata": {},
   "outputs": [],
   "source": [
    "def returns_sum(fun,L):\n",
    "    result = 0\n",
    "    for i in L:\n",
    "        if fun(i):\n",
    "            result += i\n",
    "        \n",
    "    return result"
   ]
  },
  {
   "cell_type": "code",
   "execution_count": 21,
   "id": "cec3db6c",
   "metadata": {},
   "outputs": [
    {
     "data": {
      "text/plain": [
       "176"
      ]
     },
     "execution_count": 21,
     "metadata": {},
     "output_type": "execute_result"
    }
   ],
   "source": [
    "returns_sum(even,L)"
   ]
  },
  {
   "cell_type": "code",
   "execution_count": 22,
   "id": "f77bfec8",
   "metadata": {},
   "outputs": [
    {
     "data": {
      "text/plain": [
       "129"
      ]
     },
     "execution_count": 22,
     "metadata": {},
     "output_type": "execute_result"
    }
   ],
   "source": [
    "returns_sum(odd,L)"
   ]
  },
  {
   "cell_type": "code",
   "execution_count": 23,
   "id": "a79e09f7",
   "metadata": {},
   "outputs": [
    {
     "data": {
      "text/plain": [
       "144"
      ]
     },
     "execution_count": 23,
     "metadata": {},
     "output_type": "execute_result"
    }
   ],
   "source": [
    "returns_sum(div3,L)"
   ]
  },
  {
   "cell_type": "markdown",
   "id": "d0428384",
   "metadata": {},
   "source": [
    "### MAP"
   ]
  },
  {
   "cell_type": "code",
   "execution_count": 26,
   "id": "21b69bb4",
   "metadata": {},
   "outputs": [
    {
     "data": {
      "text/plain": [
       "[22, 28, 42, 46, 112, 156, 90, 58, 56]"
      ]
     },
     "execution_count": 26,
     "metadata": {},
     "output_type": "execute_result"
    }
   ],
   "source": [
    "list(map(lambda x: x*2,L))"
   ]
  },
  {
   "cell_type": "code",
   "execution_count": 27,
   "id": "c8204951",
   "metadata": {},
   "outputs": [],
   "source": [
    "students = [\n",
    "    {\n",
    "        \"name\":\"Jacob Martin\",\n",
    "        \"father name\":\"Ros Martin\",\n",
    "        \"Address\": \"123 Hill Street\",\n",
    "    },{\n",
    "        \"name\":\"Angela Stevens\",\n",
    "        \"father name\":\"Robert Stevens\",\n",
    "        \"Address\": \"3 Upper Street London\",\n",
    "    },{\n",
    "        \"name\":\"Ricky Smart\",\n",
    "        \"father name\":\"William Smart\",\n",
    "        \"Address\": \"Unknown\",\n",
    "    }\n",
    "]"
   ]
  },
  {
   "cell_type": "code",
   "execution_count": 28,
   "id": "4ed940aa",
   "metadata": {},
   "outputs": [
    {
     "data": {
      "text/plain": [
       "<map at 0x2737d52d6a0>"
      ]
     },
     "execution_count": 28,
     "metadata": {},
     "output_type": "execute_result"
    }
   ],
   "source": [
    "map(lambda student: student['name'],students)"
   ]
  },
  {
   "cell_type": "code",
   "execution_count": 29,
   "id": "5df11faa",
   "metadata": {},
   "outputs": [
    {
     "data": {
      "text/plain": [
       "['Jacob Martin', 'Angela Stevens', 'Ricky Smart']"
      ]
     },
     "execution_count": 29,
     "metadata": {},
     "output_type": "execute_result"
    }
   ],
   "source": [
    "list(map(lambda student: student['name'],students))"
   ]
  },
  {
   "cell_type": "code",
   "execution_count": 40,
   "id": "5936d562",
   "metadata": {},
   "outputs": [],
   "source": [
    "# Map work on every element"
   ]
  },
  {
   "cell_type": "markdown",
   "id": "a6cb598f",
   "metadata": {},
   "source": [
    "### Filter"
   ]
  },
  {
   "cell_type": "code",
   "execution_count": 3,
   "id": "6ae44545",
   "metadata": {},
   "outputs": [],
   "source": [
    "L = [1,2,3,4,5,7,6,8,9]\n",
    "L.sort()"
   ]
  },
  {
   "cell_type": "code",
   "execution_count": 4,
   "id": "a6d04852",
   "metadata": {},
   "outputs": [
    {
     "data": {
      "text/plain": [
       "[False, True, False, True, False, True, False, True, False]"
      ]
     },
     "execution_count": 4,
     "metadata": {},
     "output_type": "execute_result"
    }
   ],
   "source": [
    "list(map(lambda x: x%2==0,L))"
   ]
  },
  {
   "cell_type": "code",
   "execution_count": 5,
   "id": "f2094bbb",
   "metadata": {},
   "outputs": [
    {
     "data": {
      "text/plain": [
       "[2, 4, 6, 8]"
      ]
     },
     "execution_count": 5,
     "metadata": {},
     "output_type": "execute_result"
    }
   ],
   "source": [
    "list(filter(lambda x: x%2==0,L))\n",
    "# filter work on only with filter function"
   ]
  },
  {
   "cell_type": "code",
   "execution_count": 6,
   "id": "0e8bee20",
   "metadata": {},
   "outputs": [
    {
     "data": {
      "text/plain": [
       "[6, 7, 8, 9]"
      ]
     },
     "execution_count": 6,
     "metadata": {},
     "output_type": "execute_result"
    }
   ],
   "source": [
    "list(filter(lambda x: x>5,L))"
   ]
  },
  {
   "cell_type": "code",
   "execution_count": 7,
   "id": "8a1a23e5",
   "metadata": {},
   "outputs": [
    {
     "data": {
      "text/plain": [
       "['Apple', 'Orange']"
      ]
     },
     "execution_count": 7,
     "metadata": {},
     "output_type": "execute_result"
    }
   ],
   "source": [
    "fruits = ['Apple','Orange','Mango','Guava']\n",
    "\n",
    "list(filter(lambda fruit: 'e' in fruit,fruits))"
   ]
  },
  {
   "cell_type": "markdown",
   "id": "26d95f4a",
   "metadata": {},
   "source": [
    "## Reduce"
   ]
  },
  {
   "cell_type": "code",
   "execution_count": 1,
   "id": "968b1b69",
   "metadata": {},
   "outputs": [
    {
     "ename": "NameError",
     "evalue": "name 'L' is not defined",
     "output_type": "error",
     "traceback": [
      "\u001b[1;31m---------------------------------------------------------------------------\u001b[0m",
      "\u001b[1;31mNameError\u001b[0m                                 Traceback (most recent call last)",
      "Cell \u001b[1;32mIn[1], line 1\u001b[0m\n\u001b[1;32m----> 1\u001b[0m \u001b[43mL\u001b[49m\n",
      "\u001b[1;31mNameError\u001b[0m: name 'L' is not defined"
     ]
    }
   ],
   "source": [
    "L"
   ]
  },
  {
   "cell_type": "code",
   "execution_count": 2,
   "id": "c4fac374",
   "metadata": {},
   "outputs": [],
   "source": [
    "import functools"
   ]
  },
  {
   "cell_type": "code",
   "execution_count": 43,
   "id": "67542003",
   "metadata": {},
   "outputs": [
    {
     "data": {
      "text/plain": [
       "45"
      ]
     },
     "execution_count": 43,
     "metadata": {},
     "output_type": "execute_result"
    }
   ],
   "source": [
    "functools.reduce(lambda x,y:x+y,L)"
   ]
  },
  {
   "cell_type": "code",
   "execution_count": 45,
   "id": "b897cbbf",
   "metadata": {},
   "outputs": [
    {
     "data": {
      "text/plain": [
       "45"
      ]
     },
     "execution_count": 45,
     "metadata": {},
     "output_type": "execute_result"
    }
   ],
   "source": [
    "sum(L)"
   ]
  },
  {
   "cell_type": "code",
   "execution_count": 49,
   "id": "48b02faa",
   "metadata": {},
   "outputs": [
    {
     "data": {
      "text/plain": [
       "[89, 12, 34, 56, 11, 21, 58]"
      ]
     },
     "execution_count": 49,
     "metadata": {},
     "output_type": "execute_result"
    }
   ],
   "source": [
    "L1 = [89,12,34,56,11,21,58]\n",
    "L1"
   ]
  },
  {
   "cell_type": "code",
   "execution_count": 50,
   "id": "ead2d888",
   "metadata": {},
   "outputs": [
    {
     "data": {
      "text/plain": [
       "89"
      ]
     },
     "execution_count": 50,
     "metadata": {},
     "output_type": "execute_result"
    }
   ],
   "source": [
    "functools.reduce(lambda x,y: x if x>y else y,L1)"
   ]
  },
  {
   "cell_type": "code",
   "execution_count": 51,
   "id": "b6657b90",
   "metadata": {},
   "outputs": [
    {
     "data": {
      "text/plain": [
       "11"
      ]
     },
     "execution_count": 51,
     "metadata": {},
     "output_type": "execute_result"
    }
   ],
   "source": [
    "functools.reduce(lambda x,y: x if x<y else y,L1)"
   ]
  },
  {
   "cell_type": "markdown",
   "id": "cf74dc25",
   "metadata": {},
   "source": [
    "### List comprehension"
   ]
  },
  {
   "cell_type": "code",
   "execution_count": 56,
   "id": "6a15f5d6",
   "metadata": {},
   "outputs": [
    {
     "data": {
      "text/plain": [
       "[20, 40, 60, 80, 100, 120, 140, 160, 180, 200]"
      ]
     },
     "execution_count": 56,
     "metadata": {},
     "output_type": "execute_result"
    }
   ],
   "source": [
    "L2 = [i*2 for i in range(10,101,10)]\n",
    "L2"
   ]
  },
  {
   "cell_type": "code",
   "execution_count": 58,
   "id": "a55859c4",
   "metadata": {},
   "outputs": [
    {
     "data": {
      "text/plain": [
       "[4, 16, 36, 64, 100]"
      ]
     },
     "execution_count": 58,
     "metadata": {},
     "output_type": "execute_result"
    }
   ],
   "source": [
    "L3 = [i**2 for i in range(1,11) if i%2 == 0]\n",
    "L3"
   ]
  },
  {
   "cell_type": "code",
   "execution_count": 59,
   "id": "e60536a5",
   "metadata": {},
   "outputs": [
    {
     "data": {
      "text/plain": [
       "['Orange']"
      ]
     },
     "execution_count": 59,
     "metadata": {},
     "output_type": "execute_result"
    }
   ],
   "source": [
    "fruits = ['Apple','Orange','Mango','Guava']\n",
    "\n",
    "L4 = [i for i in fruits if 'O' in i]\n",
    "L4"
   ]
  },
  {
   "cell_type": "code",
   "execution_count": 60,
   "id": "808ec1cb",
   "metadata": {},
   "outputs": [
    {
     "data": {
      "text/plain": [
       "['Orange']"
      ]
     },
     "execution_count": 60,
     "metadata": {},
     "output_type": "execute_result"
    }
   ],
   "source": [
    "L4 = [i for i in fruits if i[0]=='O']\n",
    "L4"
   ]
  },
  {
   "cell_type": "code",
   "execution_count": 61,
   "id": "8b664f1b",
   "metadata": {},
   "outputs": [],
   "source": [
    "D = {'Name':'Nihar','Gender':'Male','Age':27}"
   ]
  },
  {
   "cell_type": "code",
   "execution_count": 63,
   "id": "d5c8b513",
   "metadata": {},
   "outputs": [
    {
     "data": {
      "text/plain": [
       "dict_items([('Name', 'Nihar'), ('Gender', 'Male'), ('Age', 27)])"
      ]
     },
     "execution_count": 63,
     "metadata": {},
     "output_type": "execute_result"
    }
   ],
   "source": [
    "D.items()"
   ]
  },
  {
   "cell_type": "code",
   "execution_count": 64,
   "id": "87686b33",
   "metadata": {},
   "outputs": [
    {
     "data": {
      "text/plain": [
       "{'Name': 'Nihar', 'Gender': 'Male'}"
      ]
     },
     "execution_count": 64,
     "metadata": {},
     "output_type": "execute_result"
    }
   ],
   "source": [
    "D1 = {key:value for key,value in D.items() if len(key)>3}\n",
    "D1"
   ]
  },
  {
   "cell_type": "code",
   "execution_count": 68,
   "id": "4eea8480",
   "metadata": {},
   "outputs": [],
   "source": [
    "def even(n):\n",
    "    if n%2 == 0:\n",
    "        return True\n",
    "    else:\n",
    "        return False"
   ]
  },
  {
   "cell_type": "code",
   "execution_count": 69,
   "id": "5ba527fa",
   "metadata": {},
   "outputs": [
    {
     "data": {
      "text/plain": [
       "True"
      ]
     },
     "execution_count": 69,
     "metadata": {},
     "output_type": "execute_result"
    }
   ],
   "source": [
    "even(8)"
   ]
  },
  {
   "cell_type": "code",
   "execution_count": 70,
   "id": "99c738c8",
   "metadata": {},
   "outputs": [
    {
     "data": {
      "text/plain": [
       "False"
      ]
     },
     "execution_count": 70,
     "metadata": {},
     "output_type": "execute_result"
    }
   ],
   "source": [
    "even(9)"
   ]
  },
  {
   "cell_type": "code",
   "execution_count": 72,
   "id": "9e25017b",
   "metadata": {},
   "outputs": [
    {
     "data": {
      "text/plain": [
       "{2: 4, 4: 16, 6: 36, 8: 64}"
      ]
     },
     "execution_count": 72,
     "metadata": {},
     "output_type": "execute_result"
    }
   ],
   "source": [
    "L = [1,2,3,4,5,6,7,8,9]\n",
    "D2 = {item:item**2 for item in L if item%2 == 0}\n",
    "D2"
   ]
  },
  {
   "cell_type": "code",
   "execution_count": null,
   "id": "727cbc2d",
   "metadata": {},
   "outputs": [],
   "source": []
  }
 ],
 "metadata": {
  "kernelspec": {
   "display_name": "Python 3 (ipykernel)",
   "language": "python",
   "name": "python3"
  },
  "language_info": {
   "codemirror_mode": {
    "name": "ipython",
    "version": 3
   },
   "file_extension": ".py",
   "mimetype": "text/x-python",
   "name": "python",
   "nbconvert_exporter": "python",
   "pygments_lexer": "ipython3",
   "version": "3.10.9"
  }
 },
 "nbformat": 4,
 "nbformat_minor": 5
}
