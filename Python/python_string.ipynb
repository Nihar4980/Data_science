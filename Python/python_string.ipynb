{
 "cells": [
  {
   "cell_type": "code",
   "execution_count": 1,
   "id": "bf164eff",
   "metadata": {},
   "outputs": [],
   "source": [
    "c = \"It is raining today\""
   ]
  },
  {
   "cell_type": "code",
   "execution_count": 2,
   "id": "447374bb",
   "metadata": {},
   "outputs": [
    {
     "data": {
      "text/plain": [
       "'It is raining today'"
      ]
     },
     "execution_count": 2,
     "metadata": {},
     "output_type": "execute_result"
    }
   ],
   "source": [
    "c.capitalize()"
   ]
  },
  {
   "cell_type": "code",
   "execution_count": 3,
   "id": "3e4e0a94",
   "metadata": {},
   "outputs": [
    {
     "data": {
      "text/plain": [
       "'it is raining today'"
      ]
     },
     "execution_count": 3,
     "metadata": {},
     "output_type": "execute_result"
    }
   ],
   "source": [
    "c.casefold()"
   ]
  },
  {
   "cell_type": "code",
   "execution_count": 4,
   "id": "850fdf0e",
   "metadata": {},
   "outputs": [
    {
     "data": {
      "text/plain": [
       "'     It is raining today      '"
      ]
     },
     "execution_count": 4,
     "metadata": {},
     "output_type": "execute_result"
    }
   ],
   "source": [
    "c.center(30)"
   ]
  },
  {
   "cell_type": "code",
   "execution_count": 5,
   "id": "1a416e22",
   "metadata": {},
   "outputs": [
    {
     "data": {
      "text/plain": [
       "3"
      ]
     },
     "execution_count": 5,
     "metadata": {},
     "output_type": "execute_result"
    }
   ],
   "source": [
    "c.count('i')"
   ]
  },
  {
   "cell_type": "code",
   "execution_count": 7,
   "id": "892b2e7a",
   "metadata": {},
   "outputs": [
    {
     "data": {
      "text/plain": [
       "True"
      ]
     },
     "execution_count": 7,
     "metadata": {},
     "output_type": "execute_result"
    }
   ],
   "source": [
    "c.endswith('y')"
   ]
  },
  {
   "cell_type": "code",
   "execution_count": 8,
   "id": "e29a12b4",
   "metadata": {},
   "outputs": [
    {
     "data": {
      "text/plain": [
       "'     It is raining today      '"
      ]
     },
     "execution_count": 8,
     "metadata": {},
     "output_type": "execute_result"
    }
   ],
   "source": [
    "c = c.center(30)\n",
    "c"
   ]
  },
  {
   "cell_type": "code",
   "execution_count": 9,
   "id": "e3bbb007",
   "metadata": {},
   "outputs": [
    {
     "data": {
      "text/plain": [
       "'It is raining today      '"
      ]
     },
     "execution_count": 9,
     "metadata": {},
     "output_type": "execute_result"
    }
   ],
   "source": [
    "c.lstrip()"
   ]
  },
  {
   "cell_type": "code",
   "execution_count": 10,
   "id": "b1100335",
   "metadata": {},
   "outputs": [
    {
     "data": {
      "text/plain": [
       "'     It is raining today'"
      ]
     },
     "execution_count": 10,
     "metadata": {},
     "output_type": "execute_result"
    }
   ],
   "source": [
    "c.rstrip()"
   ]
  },
  {
   "cell_type": "code",
   "execution_count": 11,
   "id": "98c7a82d",
   "metadata": {},
   "outputs": [
    {
     "data": {
      "text/plain": [
       "'It is raining today'"
      ]
     },
     "execution_count": 11,
     "metadata": {},
     "output_type": "execute_result"
    }
   ],
   "source": [
    "c.strip()"
   ]
  },
  {
   "cell_type": "code",
   "execution_count": 12,
   "id": "413755cb",
   "metadata": {},
   "outputs": [
    {
     "data": {
      "text/plain": [
       "'     It is raining today      '"
      ]
     },
     "execution_count": 12,
     "metadata": {},
     "output_type": "execute_result"
    }
   ],
   "source": [
    "c.expandtabs()"
   ]
  },
  {
   "cell_type": "code",
   "execution_count": 13,
   "id": "a4812820",
   "metadata": {},
   "outputs": [
    {
     "data": {
      "text/plain": [
       "8"
      ]
     },
     "execution_count": 13,
     "metadata": {},
     "output_type": "execute_result"
    }
   ],
   "source": [
    "c.find('i')"
   ]
  },
  {
   "cell_type": "code",
   "execution_count": 18,
   "id": "aa223d70",
   "metadata": {},
   "outputs": [
    {
     "data": {
      "text/plain": [
       "'It is raining today'"
      ]
     },
     "execution_count": 18,
     "metadata": {},
     "output_type": "execute_result"
    }
   ],
   "source": [
    "c = \"It is raining {}\"\n",
    "c.format('today')"
   ]
  },
  {
   "cell_type": "code",
   "execution_count": 19,
   "id": "a6f57554",
   "metadata": {},
   "outputs": [
    {
     "data": {
      "text/plain": [
       "True"
      ]
     },
     "execution_count": 19,
     "metadata": {},
     "output_type": "execute_result"
    }
   ],
   "source": [
    "c = 'Pune123'\n",
    "c.isalnum()"
   ]
  },
  {
   "cell_type": "code",
   "execution_count": 21,
   "id": "5cb6ee4a",
   "metadata": {},
   "outputs": [
    {
     "data": {
      "text/plain": [
       "True"
      ]
     },
     "execution_count": 21,
     "metadata": {},
     "output_type": "execute_result"
    }
   ],
   "source": [
    "c = 'Pune'\n",
    "c.isalpha()"
   ]
  },
  {
   "cell_type": "code",
   "execution_count": 22,
   "id": "293f1ebc",
   "metadata": {},
   "outputs": [
    {
     "data": {
      "text/plain": [
       "True"
      ]
     },
     "execution_count": 22,
     "metadata": {},
     "output_type": "execute_result"
    }
   ],
   "source": [
    "c = 'Pune'\n",
    "c.isascii()"
   ]
  },
  {
   "cell_type": "code",
   "execution_count": 23,
   "id": "8bccaf2f",
   "metadata": {},
   "outputs": [
    {
     "data": {
      "text/plain": [
       "True"
      ]
     },
     "execution_count": 23,
     "metadata": {},
     "output_type": "execute_result"
    }
   ],
   "source": [
    "c = 'Pune'\n",
    "c.isprintable()"
   ]
  },
  {
   "cell_type": "code",
   "execution_count": 24,
   "id": "52561701",
   "metadata": {},
   "outputs": [
    {
     "data": {
      "text/plain": [
       "False"
      ]
     },
     "execution_count": 24,
     "metadata": {},
     "output_type": "execute_result"
    }
   ],
   "source": [
    "c.islower()"
   ]
  },
  {
   "cell_type": "code",
   "execution_count": 25,
   "id": "b14a7c50",
   "metadata": {},
   "outputs": [
    {
     "data": {
      "text/plain": [
       "True"
      ]
     },
     "execution_count": 25,
     "metadata": {},
     "output_type": "execute_result"
    }
   ],
   "source": [
    "c.isidentifier()"
   ]
  },
  {
   "cell_type": "code",
   "execution_count": 27,
   "id": "54d14c80",
   "metadata": {},
   "outputs": [
    {
     "data": {
      "text/plain": [
       "False"
      ]
     },
     "execution_count": 27,
     "metadata": {},
     "output_type": "execute_result"
    }
   ],
   "source": [
    "c = 'Pune is the cultural capital of the Maharashtra.'\n",
    "c.isspace()"
   ]
  },
  {
   "cell_type": "code",
   "execution_count": 29,
   "id": "c979064d",
   "metadata": {},
   "outputs": [
    {
     "data": {
      "text/plain": [
       "True"
      ]
     },
     "execution_count": 29,
     "metadata": {},
     "output_type": "execute_result"
    }
   ],
   "source": [
    "d = ' '\n",
    "d.isspace()"
   ]
  },
  {
   "cell_type": "code",
   "execution_count": 31,
   "id": "5f148c34",
   "metadata": {},
   "outputs": [
    {
     "data": {
      "text/plain": [
       "['Pune', 'is', 'the', 'cultural', 'capital', 'of', 'the', 'Maharashtra.']"
      ]
     },
     "execution_count": 31,
     "metadata": {},
     "output_type": "execute_result"
    }
   ],
   "source": [
    "c.split(' ') # string to list"
   ]
  },
  {
   "cell_type": "code",
   "execution_count": 33,
   "id": "df3fdf6e",
   "metadata": {},
   "outputs": [
    {
     "data": {
      "text/plain": [
       "'Pune is the cultural capital of the Maharashtra.'"
      ]
     },
     "execution_count": 33,
     "metadata": {},
     "output_type": "execute_result"
    }
   ],
   "source": [
    "c"
   ]
  },
  {
   "cell_type": "code",
   "execution_count": 37,
   "id": "e6582477",
   "metadata": {},
   "outputs": [
    {
     "data": {
      "text/plain": [
       "'00000000000000000000000000000000000000000000000000000000000000000000000000000000000000000000000000000000000000000000000000000000000000000000000000000000Pune is the cultural capital of the Maharashtra.'"
      ]
     },
     "execution_count": 37,
     "metadata": {},
     "output_type": "execute_result"
    }
   ],
   "source": [
    "c.zfill(200)"
   ]
  },
  {
   "cell_type": "code",
   "execution_count": 38,
   "id": "7d494d3a",
   "metadata": {},
   "outputs": [
    {
     "data": {
      "text/plain": [
       "18"
      ]
     },
     "execution_count": 38,
     "metadata": {},
     "output_type": "execute_result"
    }
   ],
   "source": [
    "c.find('a')"
   ]
  },
  {
   "cell_type": "code",
   "execution_count": 43,
   "id": "125f6c77",
   "metadata": {},
   "outputs": [
    {
     "data": {
      "text/plain": [
       "'Nihar Swain'"
      ]
     },
     "execution_count": 43,
     "metadata": {},
     "output_type": "execute_result"
    }
   ],
   "source": [
    "n = 'Mr. Nihar Swain'\n",
    "n.removeprefix('Mr. ')"
   ]
  },
  {
   "cell_type": "code",
   "execution_count": 44,
   "id": "17d2cfe8",
   "metadata": {},
   "outputs": [
    {
     "data": {
      "text/plain": [
       "'Mr. Nihar'"
      ]
     },
     "execution_count": 44,
     "metadata": {},
     "output_type": "execute_result"
    }
   ],
   "source": [
    "n.removesuffix(' Swain')"
   ]
  },
  {
   "cell_type": "code",
   "execution_count": 45,
   "id": "89d51468",
   "metadata": {},
   "outputs": [
    {
     "data": {
      "text/plain": [
       "48"
      ]
     },
     "execution_count": 45,
     "metadata": {},
     "output_type": "execute_result"
    }
   ],
   "source": [
    "len(c)"
   ]
  },
  {
   "cell_type": "code",
   "execution_count": 46,
   "id": "fd81411f",
   "metadata": {},
   "outputs": [
    {
     "data": {
      "text/plain": [
       "'Pune is the cultural capital of the Maharashtra.'"
      ]
     },
     "execution_count": 46,
     "metadata": {},
     "output_type": "execute_result"
    }
   ],
   "source": [
    "c"
   ]
  },
  {
   "cell_type": "code",
   "execution_count": 47,
   "id": "bd03badc",
   "metadata": {},
   "outputs": [
    {
     "data": {
      "text/plain": [
       "21"
      ]
     },
     "execution_count": 47,
     "metadata": {},
     "output_type": "execute_result"
    }
   ],
   "source": [
    "c.rfind('capital')"
   ]
  },
  {
   "cell_type": "code",
   "execution_count": 51,
   "id": "274acaad",
   "metadata": {},
   "outputs": [
    {
     "data": {
      "text/plain": [
       "('Pune ', 'is', ' the cultural capital of the Maharashtra.')"
      ]
     },
     "execution_count": 51,
     "metadata": {},
     "output_type": "execute_result"
    }
   ],
   "source": [
    "c.rpartition('is')"
   ]
  },
  {
   "cell_type": "code",
   "execution_count": 53,
   "id": "7d04fa79",
   "metadata": {},
   "outputs": [
    {
     "data": {
      "text/plain": [
       "('Pune is the cultural capital of the', ' ', 'Maharashtra.')"
      ]
     },
     "execution_count": 53,
     "metadata": {},
     "output_type": "execute_result"
    }
   ],
   "source": [
    "c.rpartition(' ')"
   ]
  },
  {
   "cell_type": "code",
   "execution_count": 56,
   "id": "59c60195",
   "metadata": {},
   "outputs": [
    {
     "data": {
      "text/plain": [
       "'Pune is the cultural capital of the Maharashtra'"
      ]
     },
     "execution_count": 56,
     "metadata": {},
     "output_type": "execute_result"
    }
   ],
   "source": [
    "z = 'Pune is the cultural capital of the Maharashtra'\n",
    "z"
   ]
  },
  {
   "cell_type": "code",
   "execution_count": null,
   "id": "087cef29",
   "metadata": {},
   "outputs": [],
   "source": []
  }
 ],
 "metadata": {
  "kernelspec": {
   "display_name": "Python 3 (ipykernel)",
   "language": "python",
   "name": "python3"
  },
  "language_info": {
   "codemirror_mode": {
    "name": "ipython",
    "version": 3
   },
   "file_extension": ".py",
   "mimetype": "text/x-python",
   "name": "python",
   "nbconvert_exporter": "python",
   "pygments_lexer": "ipython3",
   "version": "3.10.9"
  }
 },
 "nbformat": 4,
 "nbformat_minor": 5
}
